{
 "cells": [
  {
   "cell_type": "code",
   "execution_count": 3,
   "id": "04df9cce",
   "metadata": {},
   "outputs": [],
   "source": [
    "import numpy as np"
   ]
  },
  {
   "cell_type": "code",
   "execution_count": 4,
   "id": "780c8711",
   "metadata": {},
   "outputs": [
    {
     "data": {
      "text/plain": [
       "array([2, 3, 4, 5])"
      ]
     },
     "execution_count": 4,
     "metadata": {},
     "output_type": "execute_result"
    }
   ],
   "source": [
    "#n dimensional homogenous array\n",
    "np.array([2,3,4,5])"
   ]
  },
  {
   "cell_type": "code",
   "execution_count": 5,
   "id": "1f007453",
   "metadata": {},
   "outputs": [],
   "source": [
    "#lets import data from scikit learn to work with\n",
    "\n",
    "from sklearn.datasets import load_wine"
   ]
  },
  {
   "cell_type": "code",
   "execution_count": 6,
   "id": "34bd57c4",
   "metadata": {},
   "outputs": [],
   "source": [
    "data_bunch = load_wine()"
   ]
  },
  {
   "cell_type": "code",
   "execution_count": 7,
   "id": "1befd44b",
   "metadata": {},
   "outputs": [
    {
     "data": {
      "text/plain": [
       "{'data': array([[1.423e+01, 1.710e+00, 2.430e+00, ..., 1.040e+00, 3.920e+00,\n",
       "         1.065e+03],\n",
       "        [1.320e+01, 1.780e+00, 2.140e+00, ..., 1.050e+00, 3.400e+00,\n",
       "         1.050e+03],\n",
       "        [1.316e+01, 2.360e+00, 2.670e+00, ..., 1.030e+00, 3.170e+00,\n",
       "         1.185e+03],\n",
       "        ...,\n",
       "        [1.327e+01, 4.280e+00, 2.260e+00, ..., 5.900e-01, 1.560e+00,\n",
       "         8.350e+02],\n",
       "        [1.317e+01, 2.590e+00, 2.370e+00, ..., 6.000e-01, 1.620e+00,\n",
       "         8.400e+02],\n",
       "        [1.413e+01, 4.100e+00, 2.740e+00, ..., 6.100e-01, 1.600e+00,\n",
       "         5.600e+02]]),\n",
       " 'target': array([0, 0, 0, 0, 0, 0, 0, 0, 0, 0, 0, 0, 0, 0, 0, 0, 0, 0, 0, 0, 0, 0,\n",
       "        0, 0, 0, 0, 0, 0, 0, 0, 0, 0, 0, 0, 0, 0, 0, 0, 0, 0, 0, 0, 0, 0,\n",
       "        0, 0, 0, 0, 0, 0, 0, 0, 0, 0, 0, 0, 0, 0, 0, 1, 1, 1, 1, 1, 1, 1,\n",
       "        1, 1, 1, 1, 1, 1, 1, 1, 1, 1, 1, 1, 1, 1, 1, 1, 1, 1, 1, 1, 1, 1,\n",
       "        1, 1, 1, 1, 1, 1, 1, 1, 1, 1, 1, 1, 1, 1, 1, 1, 1, 1, 1, 1, 1, 1,\n",
       "        1, 1, 1, 1, 1, 1, 1, 1, 1, 1, 1, 1, 1, 1, 1, 1, 1, 1, 1, 1, 2, 2,\n",
       "        2, 2, 2, 2, 2, 2, 2, 2, 2, 2, 2, 2, 2, 2, 2, 2, 2, 2, 2, 2, 2, 2,\n",
       "        2, 2, 2, 2, 2, 2, 2, 2, 2, 2, 2, 2, 2, 2, 2, 2, 2, 2, 2, 2, 2, 2,\n",
       "        2, 2]),\n",
       " 'frame': None,\n",
       " 'target_names': array(['class_0', 'class_1', 'class_2'], dtype='<U7'),\n",
       " 'DESCR': '.. _wine_dataset:\\n\\nWine recognition dataset\\n------------------------\\n\\n**Data Set Characteristics:**\\n\\n    :Number of Instances: 178\\n    :Number of Attributes: 13 numeric, predictive attributes and the class\\n    :Attribute Information:\\n \\t\\t- Alcohol\\n \\t\\t- Malic acid\\n \\t\\t- Ash\\n\\t\\t- Alcalinity of ash  \\n \\t\\t- Magnesium\\n\\t\\t- Total phenols\\n \\t\\t- Flavanoids\\n \\t\\t- Nonflavanoid phenols\\n \\t\\t- Proanthocyanins\\n\\t\\t- Color intensity\\n \\t\\t- Hue\\n \\t\\t- OD280/OD315 of diluted wines\\n \\t\\t- Proline\\n\\n    - class:\\n            - class_0\\n            - class_1\\n            - class_2\\n\\t\\t\\n    :Summary Statistics:\\n    \\n    ============================= ==== ===== ======= =====\\n                                   Min   Max   Mean     SD\\n    ============================= ==== ===== ======= =====\\n    Alcohol:                      11.0  14.8    13.0   0.8\\n    Malic Acid:                   0.74  5.80    2.34  1.12\\n    Ash:                          1.36  3.23    2.36  0.27\\n    Alcalinity of Ash:            10.6  30.0    19.5   3.3\\n    Magnesium:                    70.0 162.0    99.7  14.3\\n    Total Phenols:                0.98  3.88    2.29  0.63\\n    Flavanoids:                   0.34  5.08    2.03  1.00\\n    Nonflavanoid Phenols:         0.13  0.66    0.36  0.12\\n    Proanthocyanins:              0.41  3.58    1.59  0.57\\n    Colour Intensity:              1.3  13.0     5.1   2.3\\n    Hue:                          0.48  1.71    0.96  0.23\\n    OD280/OD315 of diluted wines: 1.27  4.00    2.61  0.71\\n    Proline:                       278  1680     746   315\\n    ============================= ==== ===== ======= =====\\n\\n    :Missing Attribute Values: None\\n    :Class Distribution: class_0 (59), class_1 (71), class_2 (48)\\n    :Creator: R.A. Fisher\\n    :Donor: Michael Marshall (MARSHALL%PLU@io.arc.nasa.gov)\\n    :Date: July, 1988\\n\\nThis is a copy of UCI ML Wine recognition datasets.\\nhttps://archive.ics.uci.edu/ml/machine-learning-databases/wine/wine.data\\n\\nThe data is the results of a chemical analysis of wines grown in the same\\nregion in Italy by three different cultivators. There are thirteen different\\nmeasurements taken for different constituents found in the three types of\\nwine.\\n\\nOriginal Owners: \\n\\nForina, M. et al, PARVUS - \\nAn Extendible Package for Data Exploration, Classification and Correlation. \\nInstitute of Pharmaceutical and Food Analysis and Technologies,\\nVia Brigata Salerno, 16147 Genoa, Italy.\\n\\nCitation:\\n\\nLichman, M. (2013). UCI Machine Learning Repository\\n[https://archive.ics.uci.edu/ml]. Irvine, CA: University of California,\\nSchool of Information and Computer Science. \\n\\n.. topic:: References\\n\\n  (1) S. Aeberhard, D. Coomans and O. de Vel, \\n  Comparison of Classifiers in High Dimensional Settings, \\n  Tech. Rep. no. 92-02, (1992), Dept. of Computer Science and Dept. of  \\n  Mathematics and Statistics, James Cook University of North Queensland. \\n  (Also submitted to Technometrics). \\n\\n  The data was used with many others for comparing various \\n  classifiers. The classes are separable, though only RDA \\n  has achieved 100% correct classification. \\n  (RDA : 100%, QDA 99.4%, LDA 98.9%, 1NN 96.1% (z-transformed data)) \\n  (All results using the leave-one-out technique) \\n\\n  (2) S. Aeberhard, D. Coomans and O. de Vel, \\n  \"THE CLASSIFICATION PERFORMANCE OF RDA\" \\n  Tech. Rep. no. 92-01, (1992), Dept. of Computer Science and Dept. of \\n  Mathematics and Statistics, James Cook University of North Queensland. \\n  (Also submitted to Journal of Chemometrics).\\n',\n",
       " 'feature_names': ['alcohol',\n",
       "  'malic_acid',\n",
       "  'ash',\n",
       "  'alcalinity_of_ash',\n",
       "  'magnesium',\n",
       "  'total_phenols',\n",
       "  'flavanoids',\n",
       "  'nonflavanoid_phenols',\n",
       "  'proanthocyanins',\n",
       "  'color_intensity',\n",
       "  'hue',\n",
       "  'od280/od315_of_diluted_wines',\n",
       "  'proline']}"
      ]
     },
     "execution_count": 7,
     "metadata": {},
     "output_type": "execute_result"
    }
   ],
   "source": [
    "data_bunch"
   ]
  },
  {
   "cell_type": "code",
   "execution_count": 8,
   "id": "4c237d33",
   "metadata": {},
   "outputs": [],
   "source": [
    "wine_data_ar = data_bunch['data']"
   ]
  },
  {
   "cell_type": "code",
   "execution_count": 9,
   "id": "7a0c8bec",
   "metadata": {},
   "outputs": [
    {
     "data": {
      "text/plain": [
       "array([[1.423e+01, 1.710e+00, 2.430e+00, ..., 1.040e+00, 3.920e+00,\n",
       "        1.065e+03],\n",
       "       [1.320e+01, 1.780e+00, 2.140e+00, ..., 1.050e+00, 3.400e+00,\n",
       "        1.050e+03],\n",
       "       [1.316e+01, 2.360e+00, 2.670e+00, ..., 1.030e+00, 3.170e+00,\n",
       "        1.185e+03],\n",
       "       ...,\n",
       "       [1.327e+01, 4.280e+00, 2.260e+00, ..., 5.900e-01, 1.560e+00,\n",
       "        8.350e+02],\n",
       "       [1.317e+01, 2.590e+00, 2.370e+00, ..., 6.000e-01, 1.620e+00,\n",
       "        8.400e+02],\n",
       "       [1.413e+01, 4.100e+00, 2.740e+00, ..., 6.100e-01, 1.600e+00,\n",
       "        5.600e+02]])"
      ]
     },
     "execution_count": 9,
     "metadata": {},
     "output_type": "execute_result"
    }
   ],
   "source": [
    "wine_data_ar"
   ]
  },
  {
   "cell_type": "code",
   "execution_count": 10,
   "id": "1ba8eea1",
   "metadata": {},
   "outputs": [
    {
     "data": {
      "text/plain": [
       "array([1.41e+01, 2.16e+00, 2.30e+00, 1.80e+01, 1.05e+02, 2.95e+00,\n",
       "       3.32e+00, 2.20e-01, 2.38e+00, 5.75e+00, 1.25e+00, 3.17e+00,\n",
       "       1.51e+03])"
      ]
     },
     "execution_count": 10,
     "metadata": {},
     "output_type": "execute_result"
    }
   ],
   "source": [
    "#to acess the first item on our list\n",
    "wine_data_ar[10]"
   ]
  },
  {
   "cell_type": "code",
   "execution_count": 11,
   "id": "41b3838a",
   "metadata": {},
   "outputs": [
    {
     "data": {
      "text/plain": [
       "(178, 13)"
      ]
     },
     "execution_count": 11,
     "metadata": {},
     "output_type": "execute_result"
    }
   ],
   "source": [
    "#the shape methods tells us the type of array  and the number of items in the rows amd columns\n",
    "wine_data_ar.shape"
   ]
  },
  {
   "cell_type": "code",
   "execution_count": 12,
   "id": "725d734e",
   "metadata": {},
   "outputs": [],
   "source": [
    "##maths in numpy\n",
    "alcohol = wine_data_ar[:,0]\n"
   ]
  },
  {
   "cell_type": "code",
   "execution_count": 13,
   "id": "596981bb",
   "metadata": {},
   "outputs": [],
   "source": [
    "feature_names = data_bunch['feature_names']"
   ]
  },
  {
   "cell_type": "code",
   "execution_count": 14,
   "id": "16c85663",
   "metadata": {},
   "outputs": [
    {
     "data": {
      "text/plain": [
       "['alcohol',\n",
       " 'malic_acid',\n",
       " 'ash',\n",
       " 'alcalinity_of_ash',\n",
       " 'magnesium',\n",
       " 'total_phenols',\n",
       " 'flavanoids',\n",
       " 'nonflavanoid_phenols',\n",
       " 'proanthocyanins',\n",
       " 'color_intensity',\n",
       " 'hue',\n",
       " 'od280/od315_of_diluted_wines',\n",
       " 'proline']"
      ]
     },
     "execution_count": 14,
     "metadata": {},
     "output_type": "execute_result"
    }
   ],
   "source": [
    "feature_names\n"
   ]
  },
  {
   "cell_type": "code",
   "execution_count": 15,
   "id": "cb503014",
   "metadata": {},
   "outputs": [
    {
     "data": {
      "text/plain": [
       "array([14.23, 13.2 , 13.16, 14.37, 13.24, 14.2 , 14.39, 14.06, 14.83,\n",
       "       13.86, 14.1 , 14.12, 13.75, 14.75, 14.38, 13.63, 14.3 , 13.83,\n",
       "       14.19, 13.64, 14.06, 12.93, 13.71, 12.85, 13.5 , 13.05, 13.39,\n",
       "       13.3 , 13.87, 14.02, 13.73, 13.58, 13.68, 13.76, 13.51, 13.48,\n",
       "       13.28, 13.05, 13.07, 14.22, 13.56, 13.41, 13.88, 13.24, 13.05,\n",
       "       14.21, 14.38, 13.9 , 14.1 , 13.94, 13.05, 13.83, 13.82, 13.77,\n",
       "       13.74, 13.56, 14.22, 13.29, 13.72, 12.37, 12.33, 12.64, 13.67,\n",
       "       12.37, 12.17, 12.37, 13.11, 12.37, 13.34, 12.21, 12.29, 13.86,\n",
       "       13.49, 12.99, 11.96, 11.66, 13.03, 11.84, 12.33, 12.7 , 12.  ,\n",
       "       12.72, 12.08, 13.05, 11.84, 12.67, 12.16, 11.65, 11.64, 12.08,\n",
       "       12.08, 12.  , 12.69, 12.29, 11.62, 12.47, 11.81, 12.29, 12.37,\n",
       "       12.29, 12.08, 12.6 , 12.34, 11.82, 12.51, 12.42, 12.25, 12.72,\n",
       "       12.22, 11.61, 11.46, 12.52, 11.76, 11.41, 12.08, 11.03, 11.82,\n",
       "       12.42, 12.77, 12.  , 11.45, 11.56, 12.42, 13.05, 11.87, 12.07,\n",
       "       12.43, 11.79, 12.37, 12.04, 12.86, 12.88, 12.81, 12.7 , 12.51,\n",
       "       12.6 , 12.25, 12.53, 13.49, 12.84, 12.93, 13.36, 13.52, 13.62,\n",
       "       12.25, 13.16, 13.88, 12.87, 13.32, 13.08, 13.5 , 12.79, 13.11,\n",
       "       13.23, 12.58, 13.17, 13.84, 12.45, 14.34, 13.48, 12.36, 13.69,\n",
       "       12.85, 12.96, 13.78, 13.73, 13.45, 12.82, 13.58, 13.4 , 12.2 ,\n",
       "       12.77, 14.16, 13.71, 13.4 , 13.27, 13.17, 14.13])"
      ]
     },
     "execution_count": 15,
     "metadata": {},
     "output_type": "execute_result"
    }
   ],
   "source": [
    "## in numpy while indexing the first number represent the rows and the second reprsent the column\n",
    "#we use : to print all the rows of data in the specified column\n",
    "wine_data_ar[: , 0]\n",
    "#this print all the rows in the first column"
   ]
  },
  {
   "cell_type": "code",
   "execution_count": 16,
   "id": "f24ce4b9",
   "metadata": {},
   "outputs": [
    {
     "data": {
      "text/plain": [
       "array([[ 14.23, 127.  ],\n",
       "       [ 13.2 , 100.  ],\n",
       "       [ 13.16, 101.  ],\n",
       "       [ 14.37, 113.  ],\n",
       "       [ 13.24, 118.  ],\n",
       "       [ 14.2 , 112.  ],\n",
       "       [ 14.39,  96.  ],\n",
       "       [ 14.06, 121.  ],\n",
       "       [ 14.83,  97.  ],\n",
       "       [ 13.86,  98.  ],\n",
       "       [ 14.1 , 105.  ],\n",
       "       [ 14.12,  95.  ],\n",
       "       [ 13.75,  89.  ],\n",
       "       [ 14.75,  91.  ],\n",
       "       [ 14.38, 102.  ],\n",
       "       [ 13.63, 112.  ],\n",
       "       [ 14.3 , 120.  ],\n",
       "       [ 13.83, 115.  ],\n",
       "       [ 14.19, 108.  ],\n",
       "       [ 13.64, 116.  ],\n",
       "       [ 14.06, 126.  ],\n",
       "       [ 12.93, 102.  ],\n",
       "       [ 13.71, 101.  ],\n",
       "       [ 12.85,  95.  ],\n",
       "       [ 13.5 ,  96.  ],\n",
       "       [ 13.05, 124.  ],\n",
       "       [ 13.39,  93.  ],\n",
       "       [ 13.3 ,  94.  ],\n",
       "       [ 13.87, 107.  ],\n",
       "       [ 14.02,  96.  ],\n",
       "       [ 13.73, 101.  ],\n",
       "       [ 13.58, 106.  ],\n",
       "       [ 13.68, 104.  ],\n",
       "       [ 13.76, 132.  ],\n",
       "       [ 13.51, 110.  ],\n",
       "       [ 13.48, 100.  ],\n",
       "       [ 13.28, 110.  ],\n",
       "       [ 13.05,  98.  ],\n",
       "       [ 13.07,  98.  ],\n",
       "       [ 14.22, 128.  ],\n",
       "       [ 13.56, 117.  ],\n",
       "       [ 13.41,  90.  ],\n",
       "       [ 13.88, 101.  ],\n",
       "       [ 13.24, 103.  ],\n",
       "       [ 13.05, 107.  ],\n",
       "       [ 14.21, 111.  ],\n",
       "       [ 14.38, 102.  ],\n",
       "       [ 13.9 , 101.  ],\n",
       "       [ 14.1 , 103.  ],\n",
       "       [ 13.94, 108.  ],\n",
       "       [ 13.05,  92.  ],\n",
       "       [ 13.83,  94.  ],\n",
       "       [ 13.82, 111.  ],\n",
       "       [ 13.77, 115.  ],\n",
       "       [ 13.74, 118.  ],\n",
       "       [ 13.56, 116.  ],\n",
       "       [ 14.22, 118.  ],\n",
       "       [ 13.29, 102.  ],\n",
       "       [ 13.72, 108.  ],\n",
       "       [ 12.37,  88.  ],\n",
       "       [ 12.33, 101.  ],\n",
       "       [ 12.64, 100.  ],\n",
       "       [ 13.67,  94.  ],\n",
       "       [ 12.37,  87.  ],\n",
       "       [ 12.17, 104.  ],\n",
       "       [ 12.37,  98.  ],\n",
       "       [ 13.11,  78.  ],\n",
       "       [ 12.37,  78.  ],\n",
       "       [ 13.34, 110.  ],\n",
       "       [ 12.21, 151.  ],\n",
       "       [ 12.29, 103.  ],\n",
       "       [ 13.86,  86.  ],\n",
       "       [ 13.49,  87.  ],\n",
       "       [ 12.99, 139.  ],\n",
       "       [ 11.96, 101.  ],\n",
       "       [ 11.66,  97.  ],\n",
       "       [ 13.03,  86.  ],\n",
       "       [ 11.84, 112.  ],\n",
       "       [ 12.33, 136.  ],\n",
       "       [ 12.7 , 101.  ],\n",
       "       [ 12.  ,  86.  ],\n",
       "       [ 12.72,  86.  ],\n",
       "       [ 12.08,  78.  ],\n",
       "       [ 13.05,  85.  ],\n",
       "       [ 11.84,  94.  ],\n",
       "       [ 12.67,  99.  ],\n",
       "       [ 12.16,  90.  ],\n",
       "       [ 11.65,  88.  ],\n",
       "       [ 11.64,  84.  ],\n",
       "       [ 12.08,  70.  ],\n",
       "       [ 12.08,  81.  ],\n",
       "       [ 12.  ,  86.  ],\n",
       "       [ 12.69,  80.  ],\n",
       "       [ 12.29,  88.  ],\n",
       "       [ 11.62,  98.  ],\n",
       "       [ 12.47, 162.  ],\n",
       "       [ 11.81, 134.  ],\n",
       "       [ 12.29,  85.  ],\n",
       "       [ 12.37,  88.  ],\n",
       "       [ 12.29,  88.  ],\n",
       "       [ 12.08,  97.  ],\n",
       "       [ 12.6 ,  88.  ],\n",
       "       [ 12.34,  98.  ],\n",
       "       [ 11.82,  86.  ],\n",
       "       [ 12.51,  85.  ],\n",
       "       [ 12.42,  90.  ],\n",
       "       [ 12.25,  80.  ],\n",
       "       [ 12.72,  84.  ],\n",
       "       [ 12.22,  92.  ],\n",
       "       [ 11.61,  94.  ],\n",
       "       [ 11.46, 107.  ],\n",
       "       [ 12.52,  88.  ],\n",
       "       [ 11.76, 103.  ],\n",
       "       [ 11.41,  88.  ],\n",
       "       [ 12.08,  84.  ],\n",
       "       [ 11.03,  85.  ],\n",
       "       [ 11.82,  86.  ],\n",
       "       [ 12.42, 108.  ],\n",
       "       [ 12.77,  80.  ],\n",
       "       [ 12.  ,  87.  ],\n",
       "       [ 11.45,  96.  ],\n",
       "       [ 11.56, 119.  ],\n",
       "       [ 12.42, 102.  ],\n",
       "       [ 13.05,  86.  ],\n",
       "       [ 11.87,  82.  ],\n",
       "       [ 12.07,  85.  ],\n",
       "       [ 12.43,  86.  ],\n",
       "       [ 11.79,  92.  ],\n",
       "       [ 12.37,  88.  ],\n",
       "       [ 12.04,  80.  ],\n",
       "       [ 12.86, 122.  ],\n",
       "       [ 12.88, 104.  ],\n",
       "       [ 12.81,  98.  ],\n",
       "       [ 12.7 , 106.  ],\n",
       "       [ 12.51,  85.  ],\n",
       "       [ 12.6 ,  94.  ],\n",
       "       [ 12.25,  89.  ],\n",
       "       [ 12.53,  96.  ],\n",
       "       [ 13.49,  88.  ],\n",
       "       [ 12.84, 101.  ],\n",
       "       [ 12.93,  96.  ],\n",
       "       [ 13.36,  89.  ],\n",
       "       [ 13.52,  97.  ],\n",
       "       [ 13.62,  92.  ],\n",
       "       [ 12.25, 112.  ],\n",
       "       [ 13.16, 102.  ],\n",
       "       [ 13.88,  80.  ],\n",
       "       [ 12.87,  86.  ],\n",
       "       [ 13.32,  92.  ],\n",
       "       [ 13.08, 113.  ],\n",
       "       [ 13.5 , 123.  ],\n",
       "       [ 12.79, 112.  ],\n",
       "       [ 13.11, 116.  ],\n",
       "       [ 13.23,  98.  ],\n",
       "       [ 12.58, 103.  ],\n",
       "       [ 13.17,  93.  ],\n",
       "       [ 13.84,  89.  ],\n",
       "       [ 12.45,  97.  ],\n",
       "       [ 14.34,  98.  ],\n",
       "       [ 13.48,  89.  ],\n",
       "       [ 12.36,  88.  ],\n",
       "       [ 13.69, 107.  ],\n",
       "       [ 12.85, 106.  ],\n",
       "       [ 12.96, 106.  ],\n",
       "       [ 13.78,  90.  ],\n",
       "       [ 13.73,  88.  ],\n",
       "       [ 13.45, 111.  ],\n",
       "       [ 12.82,  88.  ],\n",
       "       [ 13.58, 105.  ],\n",
       "       [ 13.4 , 112.  ],\n",
       "       [ 12.2 ,  96.  ],\n",
       "       [ 12.77,  86.  ],\n",
       "       [ 14.16,  91.  ],\n",
       "       [ 13.71,  95.  ],\n",
       "       [ 13.4 , 102.  ],\n",
       "       [ 13.27, 120.  ],\n",
       "       [ 13.17, 120.  ],\n",
       "       [ 14.13,  96.  ]])"
      ]
     },
     "execution_count": 16,
     "metadata": {},
     "output_type": "execute_result"
    }
   ],
   "source": [
    "#to print data for 2 or more colums\n",
    "wine_data_ar[:,(0,4)]\n",
    "#this prints all the rows in first column  and 4th column"
   ]
  },
  {
   "cell_type": "code",
   "execution_count": 17,
   "id": "67ed096f",
   "metadata": {},
   "outputs": [
    {
     "data": {
      "text/plain": [
       "(178,)"
      ]
     },
     "execution_count": 17,
     "metadata": {},
     "output_type": "execute_result"
    }
   ],
   "source": [
    "wine_data_ar[:,0].shape\n",
    "#this returns a one dimension array\n"
   ]
  },
  {
   "cell_type": "code",
   "execution_count": 18,
   "id": "3c22347b",
   "metadata": {},
   "outputs": [
    {
     "data": {
      "text/plain": [
       "(178, 2)"
      ]
     },
     "execution_count": 18,
     "metadata": {},
     "output_type": "execute_result"
    }
   ],
   "source": [
    "wine_data_ar[:,(0,4)].shape\n",
    "##this returns a two dimension array as we are returning 2 columns\n",
    "#first value rep number of rows second is the number of column  "
   ]
  },
  {
   "cell_type": "code",
   "execution_count": 19,
   "id": "221231f4",
   "metadata": {},
   "outputs": [
    {
     "data": {
      "text/plain": [
       "array([[ 14.23, 127.  ],\n",
       "       [ 13.2 , 100.  ],\n",
       "       [ 13.16, 101.  ],\n",
       "       [ 14.37, 113.  ],\n",
       "       [ 13.24, 118.  ],\n",
       "       [ 14.2 , 112.  ],\n",
       "       [ 14.39,  96.  ],\n",
       "       [ 14.06, 121.  ],\n",
       "       [ 14.83,  97.  ],\n",
       "       [ 13.86,  98.  ]])"
      ]
     },
     "execution_count": 19,
     "metadata": {},
     "output_type": "execute_result"
    }
   ],
   "source": [
    "#to slect certian rows of the data\n",
    "wine_data_ar[:10,(0,4)]\n"
   ]
  },
  {
   "cell_type": "code",
   "execution_count": 20,
   "id": "b2d28c5e",
   "metadata": {},
   "outputs": [
    {
     "data": {
      "text/plain": [
       "array([[ 14.23, 127.  ],\n",
       "       [ 13.16, 101.  ],\n",
       "       [ 13.24, 118.  ],\n",
       "       [ 14.39,  96.  ],\n",
       "       [ 14.83,  97.  ],\n",
       "       [ 14.1 , 105.  ],\n",
       "       [ 13.75,  89.  ],\n",
       "       [ 14.38, 102.  ],\n",
       "       [ 14.3 , 120.  ],\n",
       "       [ 14.19, 108.  ],\n",
       "       [ 14.06, 126.  ],\n",
       "       [ 13.71, 101.  ],\n",
       "       [ 13.5 ,  96.  ],\n",
       "       [ 13.39,  93.  ],\n",
       "       [ 13.87, 107.  ],\n",
       "       [ 13.73, 101.  ],\n",
       "       [ 13.68, 104.  ],\n",
       "       [ 13.51, 110.  ],\n",
       "       [ 13.28, 110.  ],\n",
       "       [ 13.07,  98.  ],\n",
       "       [ 13.56, 117.  ],\n",
       "       [ 13.88, 101.  ],\n",
       "       [ 13.05, 107.  ],\n",
       "       [ 14.38, 102.  ],\n",
       "       [ 14.1 , 103.  ],\n",
       "       [ 13.05,  92.  ],\n",
       "       [ 13.82, 111.  ],\n",
       "       [ 13.74, 118.  ],\n",
       "       [ 14.22, 118.  ],\n",
       "       [ 13.72, 108.  ],\n",
       "       [ 12.33, 101.  ],\n",
       "       [ 13.67,  94.  ],\n",
       "       [ 12.17, 104.  ],\n",
       "       [ 13.11,  78.  ],\n",
       "       [ 13.34, 110.  ],\n",
       "       [ 12.29, 103.  ],\n",
       "       [ 13.49,  87.  ],\n",
       "       [ 11.96, 101.  ],\n",
       "       [ 13.03,  86.  ],\n",
       "       [ 12.33, 136.  ],\n",
       "       [ 12.  ,  86.  ],\n",
       "       [ 12.08,  78.  ],\n",
       "       [ 11.84,  94.  ],\n",
       "       [ 12.16,  90.  ],\n",
       "       [ 11.64,  84.  ],\n",
       "       [ 12.08,  81.  ],\n",
       "       [ 12.69,  80.  ],\n",
       "       [ 11.62,  98.  ],\n",
       "       [ 11.81, 134.  ],\n",
       "       [ 12.37,  88.  ],\n",
       "       [ 12.08,  97.  ],\n",
       "       [ 12.34,  98.  ],\n",
       "       [ 12.51,  85.  ],\n",
       "       [ 12.25,  80.  ],\n",
       "       [ 12.22,  92.  ],\n",
       "       [ 11.46, 107.  ],\n",
       "       [ 11.76, 103.  ],\n",
       "       [ 12.08,  84.  ],\n",
       "       [ 11.82,  86.  ],\n",
       "       [ 12.77,  80.  ],\n",
       "       [ 11.45,  96.  ],\n",
       "       [ 12.42, 102.  ],\n",
       "       [ 11.87,  82.  ],\n",
       "       [ 12.43,  86.  ],\n",
       "       [ 12.37,  88.  ],\n",
       "       [ 12.86, 122.  ],\n",
       "       [ 12.81,  98.  ],\n",
       "       [ 12.51,  85.  ],\n",
       "       [ 12.25,  89.  ],\n",
       "       [ 13.49,  88.  ],\n",
       "       [ 12.93,  96.  ],\n",
       "       [ 13.52,  97.  ],\n",
       "       [ 12.25, 112.  ],\n",
       "       [ 13.88,  80.  ],\n",
       "       [ 13.32,  92.  ],\n",
       "       [ 13.5 , 123.  ],\n",
       "       [ 13.11, 116.  ],\n",
       "       [ 12.58, 103.  ],\n",
       "       [ 13.84,  89.  ],\n",
       "       [ 14.34,  98.  ],\n",
       "       [ 12.36,  88.  ],\n",
       "       [ 12.85, 106.  ],\n",
       "       [ 13.78,  90.  ],\n",
       "       [ 13.45, 111.  ],\n",
       "       [ 13.58, 105.  ],\n",
       "       [ 12.2 ,  96.  ],\n",
       "       [ 14.16,  91.  ],\n",
       "       [ 13.4 , 102.  ],\n",
       "       [ 13.17, 120.  ]])"
      ]
     },
     "execution_count": 20,
     "metadata": {},
     "output_type": "execute_result"
    }
   ],
   "source": [
    "wine_data_ar[::2,(0,4)]\n"
   ]
  },
  {
   "cell_type": "code",
   "execution_count": 21,
   "id": "4854497c",
   "metadata": {},
   "outputs": [
    {
     "data": {
      "text/plain": [
       "array([14.23, 13.2 , 13.16, 14.37, 13.24, 14.2 , 14.39, 14.06, 14.83,\n",
       "       13.86, 14.1 , 14.12, 13.75, 14.75, 14.38, 13.63, 14.3 , 13.83,\n",
       "       14.19, 13.64, 14.06, 12.93, 13.71, 12.85, 13.5 , 13.05, 13.39,\n",
       "       13.3 , 13.87, 14.02, 13.73, 13.58, 13.68, 13.76, 13.51, 13.48,\n",
       "       13.28, 13.05, 13.07, 14.22, 13.56, 13.41, 13.88, 13.24, 13.05,\n",
       "       14.21, 14.38, 13.9 , 14.1 , 13.94, 13.05, 13.83, 13.82, 13.77,\n",
       "       13.74, 13.56, 14.22, 13.29, 13.72, 12.37, 12.33, 12.64, 13.67,\n",
       "       12.37, 12.17, 12.37, 13.11, 12.37, 13.34, 12.21, 12.29, 13.86,\n",
       "       13.49, 12.99, 11.96, 11.66, 13.03, 11.84, 12.33, 12.7 , 12.  ,\n",
       "       12.72, 12.08, 13.05, 11.84, 12.67, 12.16, 11.65, 11.64, 12.08,\n",
       "       12.08, 12.  , 12.69, 12.29, 11.62, 12.47, 11.81, 12.29, 12.37,\n",
       "       12.29, 12.08, 12.6 , 12.34, 11.82, 12.51, 12.42, 12.25, 12.72,\n",
       "       12.22, 11.61, 11.46, 12.52, 11.76, 11.41, 12.08, 11.03, 11.82,\n",
       "       12.42, 12.77, 12.  , 11.45, 11.56, 12.42, 13.05, 11.87, 12.07,\n",
       "       12.43, 11.79, 12.37, 12.04, 12.86, 12.88, 12.81, 12.7 , 12.51,\n",
       "       12.6 , 12.25, 12.53, 13.49, 12.84, 12.93, 13.36, 13.52, 13.62,\n",
       "       12.25, 13.16, 13.88, 12.87, 13.32, 13.08, 13.5 , 12.79, 13.11,\n",
       "       13.23, 12.58, 13.17, 13.84, 12.45, 14.34, 13.48, 12.36, 13.69,\n",
       "       12.85, 12.96, 13.78, 13.73, 13.45, 12.82, 13.58, 13.4 , 12.2 ,\n",
       "       12.77, 14.16, 13.71, 13.4 , 13.27, 13.17, 14.13])"
      ]
     },
     "execution_count": 21,
     "metadata": {},
     "output_type": "execute_result"
    }
   ],
   "source": [
    "alcohol"
   ]
  },
  {
   "cell_type": "code",
   "execution_count": 22,
   "id": "ce6f7570",
   "metadata": {},
   "outputs": [
    {
     "data": {
      "text/plain": [
       "13.00061797752809"
      ]
     },
     "execution_count": 22,
     "metadata": {},
     "output_type": "execute_result"
    }
   ],
   "source": [
    "np.average(alcohol)"
   ]
  },
  {
   "cell_type": "code",
   "execution_count": 23,
   "id": "a71ffb7f",
   "metadata": {},
   "outputs": [
    {
     "data": {
      "text/plain": [
       "13.00061797752809"
      ]
     },
     "execution_count": 23,
     "metadata": {},
     "output_type": "execute_result"
    }
   ],
   "source": [
    "np.mean(alcohol)"
   ]
  },
  {
   "cell_type": "code",
   "execution_count": 24,
   "id": "0a43d16d",
   "metadata": {},
   "outputs": [
    {
     "data": {
      "text/plain": [
       "11.03"
      ]
     },
     "execution_count": 24,
     "metadata": {},
     "output_type": "execute_result"
    }
   ],
   "source": [
    "np.min(alcohol)"
   ]
  },
  {
   "cell_type": "code",
   "execution_count": 25,
   "id": "8b43f81e",
   "metadata": {},
   "outputs": [
    {
     "data": {
      "text/plain": [
       "14.83"
      ]
     },
     "execution_count": 25,
     "metadata": {},
     "output_type": "execute_result"
    }
   ],
   "source": [
    "np.max(alcohol)"
   ]
  },
  {
   "cell_type": "code",
   "execution_count": 26,
   "id": "cbee904a",
   "metadata": {},
   "outputs": [
    {
     "data": {
      "text/plain": [
       "0.8095429145285168"
      ]
     },
     "execution_count": 26,
     "metadata": {},
     "output_type": "execute_result"
    }
   ],
   "source": [
    "np.std(alcohol)"
   ]
  },
  {
   "cell_type": "code",
   "execution_count": 27,
   "id": "29ede802",
   "metadata": {},
   "outputs": [],
   "source": [
    "arr = [[2,3,4],[4,3,7]]"
   ]
  },
  {
   "cell_type": "code",
   "execution_count": 28,
   "id": "3209ae63",
   "metadata": {},
   "outputs": [
    {
     "data": {
      "text/plain": [
       "array([[ 4,  9, 16],\n",
       "       [16,  9, 49]])"
      ]
     },
     "execution_count": 28,
     "metadata": {},
     "output_type": "execute_result"
    }
   ],
   "source": [
    "np.square(arr)\n",
    "#square function is an example of element wise function"
   ]
  },
  {
   "cell_type": "code",
   "execution_count": 29,
   "id": "c6a22d56",
   "metadata": {},
   "outputs": [],
   "source": [
    "#filtering of data in numpy\n",
    "#using boolean mask\n",
    "alcohol_under13 = alcohol < 13"
   ]
  },
  {
   "cell_type": "code",
   "execution_count": 30,
   "id": "2a049e10",
   "metadata": {},
   "outputs": [
    {
     "data": {
      "text/plain": [
       "array([False, False, False, False, False, False, False, False, False,\n",
       "       False, False, False, False, False, False, False, False, False,\n",
       "       False, False, False,  True, False,  True, False, False, False,\n",
       "       False, False, False, False, False, False, False, False, False,\n",
       "       False, False, False, False, False, False, False, False, False,\n",
       "       False, False, False, False, False, False, False, False, False,\n",
       "       False, False, False, False, False,  True,  True,  True, False,\n",
       "        True,  True,  True, False,  True, False,  True,  True, False,\n",
       "       False,  True,  True,  True, False,  True,  True,  True,  True,\n",
       "        True,  True, False,  True,  True,  True,  True,  True,  True,\n",
       "        True,  True,  True,  True,  True,  True,  True,  True,  True,\n",
       "        True,  True,  True,  True,  True,  True,  True,  True,  True,\n",
       "        True,  True,  True,  True,  True,  True,  True,  True,  True,\n",
       "        True,  True,  True,  True,  True,  True, False,  True,  True,\n",
       "        True,  True,  True,  True,  True,  True,  True,  True,  True,\n",
       "        True,  True,  True, False,  True,  True, False, False, False,\n",
       "        True, False, False,  True, False, False, False,  True, False,\n",
       "       False,  True, False, False,  True, False, False,  True, False,\n",
       "        True,  True, False, False, False,  True, False, False,  True,\n",
       "        True, False, False, False, False, False, False])"
      ]
     },
     "execution_count": 30,
     "metadata": {},
     "output_type": "execute_result"
    }
   ],
   "source": [
    "alcohol_under13"
   ]
  },
  {
   "cell_type": "code",
   "execution_count": 31,
   "id": "4727c201",
   "metadata": {},
   "outputs": [
    {
     "data": {
      "text/plain": [
       "array([[1.293e+01, 3.800e+00, 2.650e+00, ..., 1.030e+00, 3.520e+00,\n",
       "        7.700e+02],\n",
       "       [1.285e+01, 1.600e+00, 2.520e+00, ..., 1.090e+00, 3.630e+00,\n",
       "        1.015e+03],\n",
       "       [1.237e+01, 9.400e-01, 1.360e+00, ..., 1.050e+00, 1.820e+00,\n",
       "        5.200e+02],\n",
       "       ...,\n",
       "       [1.282e+01, 3.370e+00, 2.300e+00, ..., 7.200e-01, 1.750e+00,\n",
       "        6.850e+02],\n",
       "       [1.220e+01, 3.030e+00, 2.320e+00, ..., 6.600e-01, 1.830e+00,\n",
       "        5.100e+02],\n",
       "       [1.277e+01, 2.390e+00, 2.280e+00, ..., 5.700e-01, 1.630e+00,\n",
       "        4.700e+02]])"
      ]
     },
     "execution_count": 31,
     "metadata": {},
     "output_type": "execute_result"
    }
   ],
   "source": [
    "#to filter our data so the rows return would only that which is less than 13\n",
    "wine_data_ar[alcohol_under13]\n",
    "#this returns all the rows that  meets the conndition and all the column\n"
   ]
  },
  {
   "cell_type": "code",
   "execution_count": 32,
   "id": "d051c7ac",
   "metadata": {},
   "outputs": [
    {
     "data": {
      "text/plain": [
       "array([12.93, 12.85, 12.37, 12.33, 12.64, 12.37, 12.17, 12.37, 12.37,\n",
       "       12.21, 12.29, 12.99, 11.96, 11.66, 11.84, 12.33, 12.7 , 12.  ,\n",
       "       12.72, 12.08, 11.84, 12.67, 12.16, 11.65, 11.64, 12.08, 12.08,\n",
       "       12.  , 12.69, 12.29, 11.62, 12.47, 11.81, 12.29, 12.37, 12.29,\n",
       "       12.08, 12.6 , 12.34, 11.82, 12.51, 12.42, 12.25, 12.72, 12.22,\n",
       "       11.61, 11.46, 12.52, 11.76, 11.41, 12.08, 11.03, 11.82, 12.42,\n",
       "       12.77, 12.  , 11.45, 11.56, 12.42, 11.87, 12.07, 12.43, 11.79,\n",
       "       12.37, 12.04, 12.86, 12.88, 12.81, 12.7 , 12.51, 12.6 , 12.25,\n",
       "       12.53, 12.84, 12.93, 12.25, 12.87, 12.79, 12.58, 12.45, 12.36,\n",
       "       12.85, 12.96, 12.82, 12.2 , 12.77])"
      ]
     },
     "execution_count": 32,
     "metadata": {},
     "output_type": "execute_result"
    }
   ],
   "source": [
    "wine_data_ar[alcohol_under13,0]\n",
    "#this returns all the rows that  meets the conndition and the first column\n"
   ]
  },
  {
   "cell_type": "code",
   "execution_count": 33,
   "id": "a788d0e3",
   "metadata": {},
   "outputs": [
    {
     "data": {
      "text/plain": [
       "(86, 13)"
      ]
     },
     "execution_count": 33,
     "metadata": {},
     "output_type": "execute_result"
    }
   ],
   "source": [
    "wine_data_ar[alcohol_under13].shape\n"
   ]
  },
  {
   "cell_type": "code",
   "execution_count": 34,
   "id": "ad52e2a7",
   "metadata": {},
   "outputs": [],
   "source": [
    "magnesium = wine_data_ar[:,4]\n"
   ]
  },
  {
   "cell_type": "code",
   "execution_count": 35,
   "id": "a464c2ce",
   "metadata": {},
   "outputs": [
    {
     "data": {
      "text/plain": [
       "array([127., 100., 101., 113., 118., 112.,  96., 121.,  97.,  98., 105.,\n",
       "        95.,  89.,  91., 102., 112., 120., 115., 108., 116., 126., 102.,\n",
       "       101.,  95.,  96., 124.,  93.,  94., 107.,  96., 101., 106., 104.,\n",
       "       132., 110., 100., 110.,  98.,  98., 128., 117.,  90., 101., 103.,\n",
       "       107., 111., 102., 101., 103., 108.,  92.,  94., 111., 115., 118.,\n",
       "       116., 118., 102., 108.,  88., 101., 100.,  94.,  87., 104.,  98.,\n",
       "        78.,  78., 110., 151., 103.,  86.,  87., 139., 101.,  97.,  86.,\n",
       "       112., 136., 101.,  86.,  86.,  78.,  85.,  94.,  99.,  90.,  88.,\n",
       "        84.,  70.,  81.,  86.,  80.,  88.,  98., 162., 134.,  85.,  88.,\n",
       "        88.,  97.,  88.,  98.,  86.,  85.,  90.,  80.,  84.,  92.,  94.,\n",
       "       107.,  88., 103.,  88.,  84.,  85.,  86., 108.,  80.,  87.,  96.,\n",
       "       119., 102.,  86.,  82.,  85.,  86.,  92.,  88.,  80., 122., 104.,\n",
       "        98., 106.,  85.,  94.,  89.,  96.,  88., 101.,  96.,  89.,  97.,\n",
       "        92., 112., 102.,  80.,  86.,  92., 113., 123., 112., 116.,  98.,\n",
       "       103.,  93.,  89.,  97.,  98.,  89.,  88., 107., 106., 106.,  90.,\n",
       "        88., 111.,  88., 105., 112.,  96.,  86.,  91.,  95., 102., 120.,\n",
       "       120.,  96.])"
      ]
     },
     "execution_count": 35,
     "metadata": {},
     "output_type": "execute_result"
    }
   ],
   "source": [
    "magnesium"
   ]
  },
  {
   "cell_type": "code",
   "execution_count": 37,
   "id": "8fb508ca",
   "metadata": {},
   "outputs": [],
   "source": [
    "magnesium_value127_boolean = magnesium >120"
   ]
  },
  {
   "cell_type": "code",
   "execution_count": 38,
   "id": "1911eed0",
   "metadata": {},
   "outputs": [],
   "source": [
    "combined_mask = magnesium_value127_boolean & alcohol_under13"
   ]
  },
  {
   "cell_type": "code",
   "execution_count": 39,
   "id": "90259cc3",
   "metadata": {},
   "outputs": [
    {
     "data": {
      "text/plain": [
       "array([[ 12.21, 151.  ],\n",
       "       [ 12.99, 139.  ],\n",
       "       [ 12.33, 136.  ],\n",
       "       [ 12.47, 162.  ],\n",
       "       [ 11.81, 134.  ],\n",
       "       [ 12.86, 122.  ]])"
      ]
     },
     "execution_count": 39,
     "metadata": {},
     "output_type": "execute_result"
    }
   ],
   "source": [
    "wine_data_ar[combined_mask ][:,(0,4)]\n",
    "#this gives all the data that appears all true in the first and fourth column when combined"
   ]
  },
  {
   "cell_type": "code",
   "execution_count": 40,
   "id": "96a987da",
   "metadata": {},
   "outputs": [],
   "source": [
    "combined_mask_or = magnesium_value127_boolean | alcohol_under13"
   ]
  },
  {
   "cell_type": "code",
   "execution_count": 41,
   "id": "4c07dfb2",
   "metadata": {},
   "outputs": [
    {
     "data": {
      "text/plain": [
       "array([[ 14.23, 127.  ],\n",
       "       [ 14.06, 121.  ],\n",
       "       [ 14.06, 126.  ],\n",
       "       [ 12.93, 102.  ],\n",
       "       [ 12.85,  95.  ],\n",
       "       [ 13.05, 124.  ],\n",
       "       [ 13.76, 132.  ],\n",
       "       [ 14.22, 128.  ],\n",
       "       [ 12.37,  88.  ],\n",
       "       [ 12.33, 101.  ],\n",
       "       [ 12.64, 100.  ],\n",
       "       [ 12.37,  87.  ],\n",
       "       [ 12.17, 104.  ],\n",
       "       [ 12.37,  98.  ],\n",
       "       [ 12.37,  78.  ],\n",
       "       [ 12.21, 151.  ],\n",
       "       [ 12.29, 103.  ],\n",
       "       [ 12.99, 139.  ],\n",
       "       [ 11.96, 101.  ],\n",
       "       [ 11.66,  97.  ],\n",
       "       [ 11.84, 112.  ],\n",
       "       [ 12.33, 136.  ],\n",
       "       [ 12.7 , 101.  ],\n",
       "       [ 12.  ,  86.  ],\n",
       "       [ 12.72,  86.  ],\n",
       "       [ 12.08,  78.  ],\n",
       "       [ 11.84,  94.  ],\n",
       "       [ 12.67,  99.  ],\n",
       "       [ 12.16,  90.  ],\n",
       "       [ 11.65,  88.  ],\n",
       "       [ 11.64,  84.  ],\n",
       "       [ 12.08,  70.  ],\n",
       "       [ 12.08,  81.  ],\n",
       "       [ 12.  ,  86.  ],\n",
       "       [ 12.69,  80.  ],\n",
       "       [ 12.29,  88.  ],\n",
       "       [ 11.62,  98.  ],\n",
       "       [ 12.47, 162.  ],\n",
       "       [ 11.81, 134.  ],\n",
       "       [ 12.29,  85.  ],\n",
       "       [ 12.37,  88.  ],\n",
       "       [ 12.29,  88.  ],\n",
       "       [ 12.08,  97.  ],\n",
       "       [ 12.6 ,  88.  ],\n",
       "       [ 12.34,  98.  ],\n",
       "       [ 11.82,  86.  ],\n",
       "       [ 12.51,  85.  ],\n",
       "       [ 12.42,  90.  ],\n",
       "       [ 12.25,  80.  ],\n",
       "       [ 12.72,  84.  ],\n",
       "       [ 12.22,  92.  ],\n",
       "       [ 11.61,  94.  ],\n",
       "       [ 11.46, 107.  ],\n",
       "       [ 12.52,  88.  ],\n",
       "       [ 11.76, 103.  ],\n",
       "       [ 11.41,  88.  ],\n",
       "       [ 12.08,  84.  ],\n",
       "       [ 11.03,  85.  ],\n",
       "       [ 11.82,  86.  ],\n",
       "       [ 12.42, 108.  ],\n",
       "       [ 12.77,  80.  ],\n",
       "       [ 12.  ,  87.  ],\n",
       "       [ 11.45,  96.  ],\n",
       "       [ 11.56, 119.  ],\n",
       "       [ 12.42, 102.  ],\n",
       "       [ 11.87,  82.  ],\n",
       "       [ 12.07,  85.  ],\n",
       "       [ 12.43,  86.  ],\n",
       "       [ 11.79,  92.  ],\n",
       "       [ 12.37,  88.  ],\n",
       "       [ 12.04,  80.  ],\n",
       "       [ 12.86, 122.  ],\n",
       "       [ 12.88, 104.  ],\n",
       "       [ 12.81,  98.  ],\n",
       "       [ 12.7 , 106.  ],\n",
       "       [ 12.51,  85.  ],\n",
       "       [ 12.6 ,  94.  ],\n",
       "       [ 12.25,  89.  ],\n",
       "       [ 12.53,  96.  ],\n",
       "       [ 12.84, 101.  ],\n",
       "       [ 12.93,  96.  ],\n",
       "       [ 12.25, 112.  ],\n",
       "       [ 12.87,  86.  ],\n",
       "       [ 13.5 , 123.  ],\n",
       "       [ 12.79, 112.  ],\n",
       "       [ 12.58, 103.  ],\n",
       "       [ 12.45,  97.  ],\n",
       "       [ 12.36,  88.  ],\n",
       "       [ 12.85, 106.  ],\n",
       "       [ 12.96, 106.  ],\n",
       "       [ 12.82,  88.  ],\n",
       "       [ 12.2 ,  96.  ],\n",
       "       [ 12.77,  86.  ]])"
      ]
     },
     "execution_count": 41,
     "metadata": {},
     "output_type": "execute_result"
    }
   ],
   "source": [
    "wine_data_ar[combined_mask_or ][:,(0,4)]\n"
   ]
  },
  {
   "cell_type": "code",
   "execution_count": 44,
   "id": "1a3aee00",
   "metadata": {},
   "outputs": [
    {
     "data": {
      "text/plain": [
       "array(['other', 'other', 'other', 'other', 'other', 'other', 'other',\n",
       "       'other', 'other', 'other', 'other', 'other', 'other', 'other',\n",
       "       'other', 'other', 'other', 'other', 'other', 'other', 'other',\n",
       "       'other', 'other', 'other', 'other', 'other', 'other', 'other',\n",
       "       'other', 'other', 'other', 'other', 'other', 'other', 'other',\n",
       "       'other', 'other', 'other', 'other', 'other', 'other', 'other',\n",
       "       'other', 'other', 'other', 'other', 'other', 'other', 'other',\n",
       "       'other', 'other', 'other', 'other', 'other', 'other', 'other',\n",
       "       'other', 'other', 'other', 'other', 'other', 'other', 'other',\n",
       "       'other', 'other', 'other', 'other', 'other', 'other', 'other',\n",
       "       'other', 'other', 'other', 'other', 'low alcohol', 'low alcohol',\n",
       "       'other', 'low alcohol', 'other', 'other', 'other', 'other',\n",
       "       'other', 'other', 'low alcohol', 'other', 'other', 'low alcohol',\n",
       "       'low alcohol', 'other', 'other', 'other', 'other', 'other',\n",
       "       'low alcohol', 'other', 'low alcohol', 'other', 'other', 'other',\n",
       "       'other', 'other', 'other', 'low alcohol', 'other', 'other',\n",
       "       'other', 'other', 'other', 'low alcohol', 'low alcohol', 'other',\n",
       "       'low alcohol', 'low alcohol', 'other', 'low alcohol',\n",
       "       'low alcohol', 'other', 'other', 'other', 'low alcohol',\n",
       "       'low alcohol', 'other', 'other', 'low alcohol', 'other', 'other',\n",
       "       'low alcohol', 'other', 'other', 'other', 'other', 'other',\n",
       "       'other', 'other', 'other', 'other', 'other', 'other', 'other',\n",
       "       'other', 'other', 'other', 'other', 'other', 'other', 'other',\n",
       "       'other', 'other', 'other', 'other', 'other', 'other', 'other',\n",
       "       'other', 'other', 'other', 'other', 'other', 'other', 'other',\n",
       "       'other', 'other', 'other', 'other', 'other', 'other', 'other',\n",
       "       'other', 'other', 'other', 'other', 'other', 'other', 'other',\n",
       "       'other', 'other', 'other'], dtype='<U11')"
      ]
     },
     "execution_count": 44,
     "metadata": {},
     "output_type": "execute_result"
    }
   ],
   "source": [
    "np.where(alcohol < 12,'low alcohol','other')#if alcohol value is less than 12 it returns low alcohol else returns others"
   ]
  },
  {
   "cell_type": "code",
   "execution_count": 45,
   "id": "1f5e15c9",
   "metadata": {},
   "outputs": [
    {
     "data": {
      "text/plain": [
       "array(['high alcohol', 'moderate alcohol', 'moderate alcohol',\n",
       "       'high alcohol', 'moderate alcohol', 'high alcohol', 'high alcohol',\n",
       "       'high alcohol', 'high alcohol', 'moderate alcohol', 'high alcohol',\n",
       "       'high alcohol', 'moderate alcohol', 'high alcohol', 'high alcohol',\n",
       "       'moderate alcohol', 'high alcohol', 'moderate alcohol',\n",
       "       'high alcohol', 'moderate alcohol', 'high alcohol',\n",
       "       'moderate alcohol', 'moderate alcohol', 'moderate alcohol',\n",
       "       'moderate alcohol', 'moderate alcohol', 'moderate alcohol',\n",
       "       'moderate alcohol', 'moderate alcohol', 'high alcohol',\n",
       "       'moderate alcohol', 'moderate alcohol', 'moderate alcohol',\n",
       "       'moderate alcohol', 'moderate alcohol', 'moderate alcohol',\n",
       "       'moderate alcohol', 'moderate alcohol', 'moderate alcohol',\n",
       "       'high alcohol', 'moderate alcohol', 'moderate alcohol',\n",
       "       'moderate alcohol', 'moderate alcohol', 'moderate alcohol',\n",
       "       'high alcohol', 'high alcohol', 'moderate alcohol', 'high alcohol',\n",
       "       'moderate alcohol', 'moderate alcohol', 'moderate alcohol',\n",
       "       'moderate alcohol', 'moderate alcohol', 'moderate alcohol',\n",
       "       'moderate alcohol', 'high alcohol', 'moderate alcohol',\n",
       "       'moderate alcohol', 'moderate alcohol', 'moderate alcohol',\n",
       "       'moderate alcohol', 'moderate alcohol', 'moderate alcohol',\n",
       "       'moderate alcohol', 'moderate alcohol', 'moderate alcohol',\n",
       "       'moderate alcohol', 'moderate alcohol', 'moderate alcohol',\n",
       "       'moderate alcohol', 'moderate alcohol', 'moderate alcohol',\n",
       "       'moderate alcohol', 'low alcohol', 'low alcohol',\n",
       "       'moderate alcohol', 'low alcohol', 'moderate alcohol',\n",
       "       'moderate alcohol', 'moderate alcohol', 'moderate alcohol',\n",
       "       'moderate alcohol', 'moderate alcohol', 'low alcohol',\n",
       "       'moderate alcohol', 'moderate alcohol', 'low alcohol',\n",
       "       'low alcohol', 'moderate alcohol', 'moderate alcohol',\n",
       "       'moderate alcohol', 'moderate alcohol', 'moderate alcohol',\n",
       "       'low alcohol', 'moderate alcohol', 'low alcohol',\n",
       "       'moderate alcohol', 'moderate alcohol', 'moderate alcohol',\n",
       "       'moderate alcohol', 'moderate alcohol', 'moderate alcohol',\n",
       "       'low alcohol', 'moderate alcohol', 'moderate alcohol',\n",
       "       'moderate alcohol', 'moderate alcohol', 'moderate alcohol',\n",
       "       'low alcohol', 'low alcohol', 'moderate alcohol', 'low alcohol',\n",
       "       'low alcohol', 'moderate alcohol', 'low alcohol', 'low alcohol',\n",
       "       'moderate alcohol', 'moderate alcohol', 'moderate alcohol',\n",
       "       'low alcohol', 'low alcohol', 'moderate alcohol',\n",
       "       'moderate alcohol', 'low alcohol', 'moderate alcohol',\n",
       "       'moderate alcohol', 'low alcohol', 'moderate alcohol',\n",
       "       'moderate alcohol', 'moderate alcohol', 'moderate alcohol',\n",
       "       'moderate alcohol', 'moderate alcohol', 'moderate alcohol',\n",
       "       'moderate alcohol', 'moderate alcohol', 'moderate alcohol',\n",
       "       'moderate alcohol', 'moderate alcohol', 'moderate alcohol',\n",
       "       'moderate alcohol', 'moderate alcohol', 'moderate alcohol',\n",
       "       'moderate alcohol', 'moderate alcohol', 'moderate alcohol',\n",
       "       'moderate alcohol', 'moderate alcohol', 'moderate alcohol',\n",
       "       'moderate alcohol', 'moderate alcohol', 'moderate alcohol',\n",
       "       'moderate alcohol', 'moderate alcohol', 'moderate alcohol',\n",
       "       'moderate alcohol', 'moderate alcohol', 'high alcohol',\n",
       "       'moderate alcohol', 'moderate alcohol', 'moderate alcohol',\n",
       "       'moderate alcohol', 'moderate alcohol', 'moderate alcohol',\n",
       "       'moderate alcohol', 'moderate alcohol', 'moderate alcohol',\n",
       "       'moderate alcohol', 'moderate alcohol', 'moderate alcohol',\n",
       "       'moderate alcohol', 'high alcohol', 'moderate alcohol',\n",
       "       'moderate alcohol', 'moderate alcohol', 'moderate alcohol',\n",
       "       'high alcohol'], dtype='<U16')"
      ]
     },
     "execution_count": 45,
     "metadata": {},
     "output_type": "execute_result"
    }
   ],
   "source": [
    "#to do multiple condtion\n",
    "np.where(alcohol < 12 ,\n",
    "        'low alcohol',\n",
    "        np.where( alcohol > 14,'high alcohol',\n",
    "                'moderate alcohol',\n",
    "                )\n",
    "        )\n",
    "#nested if logic"
   ]
  },
  {
   "cell_type": "code",
   "execution_count": 46,
   "id": "e1276266",
   "metadata": {},
   "outputs": [
    {
     "data": {
      "text/plain": [
       "array([11.03, 11.41, 11.45, 11.46, 11.56, 11.61, 11.62, 11.64, 11.65,\n",
       "       11.66, 11.76, 11.79, 11.81, 11.82, 11.82, 11.84, 11.84, 11.87,\n",
       "       11.96, 12.  , 12.  , 12.  , 12.04, 12.07, 12.08, 12.08, 12.08,\n",
       "       12.08, 12.08, 12.16, 12.17, 12.2 , 12.21, 12.22, 12.25, 12.25,\n",
       "       12.25, 12.29, 12.29, 12.29, 12.29, 12.33, 12.33, 12.34, 12.36,\n",
       "       12.37, 12.37, 12.37, 12.37, 12.37, 12.37, 12.42, 12.42, 12.42,\n",
       "       12.43, 12.45, 12.47, 12.51, 12.51, 12.52, 12.53, 12.58, 12.6 ,\n",
       "       12.6 , 12.64, 12.67, 12.69, 12.7 , 12.7 , 12.72, 12.72, 12.77,\n",
       "       12.77, 12.79, 12.81, 12.82, 12.84, 12.85, 12.85, 12.86, 12.87,\n",
       "       12.88, 12.93, 12.93, 12.96, 12.99, 13.03, 13.05, 13.05, 13.05,\n",
       "       13.05, 13.05, 13.05, 13.07, 13.08, 13.11, 13.11, 13.16, 13.16,\n",
       "       13.17, 13.17, 13.2 , 13.23, 13.24, 13.24, 13.27, 13.28, 13.29,\n",
       "       13.3 , 13.32, 13.34, 13.36, 13.39, 13.4 , 13.4 , 13.41, 13.45,\n",
       "       13.48, 13.48, 13.49, 13.49, 13.5 , 13.5 , 13.51, 13.52, 13.56,\n",
       "       13.56, 13.58, 13.58, 13.62, 13.63, 13.64, 13.67, 13.68, 13.69,\n",
       "       13.71, 13.71, 13.72, 13.73, 13.73, 13.74, 13.75, 13.76, 13.77,\n",
       "       13.78, 13.82, 13.83, 13.83, 13.84, 13.86, 13.86, 13.87, 13.88,\n",
       "       13.88, 13.9 , 13.94, 14.02, 14.06, 14.06, 14.1 , 14.1 , 14.12,\n",
       "       14.13, 14.16, 14.19, 14.2 , 14.21, 14.22, 14.22, 14.23, 14.3 ,\n",
       "       14.34, 14.37, 14.38, 14.38, 14.39, 14.75, 14.83])"
      ]
     },
     "execution_count": 46,
     "metadata": {},
     "output_type": "execute_result"
    }
   ],
   "source": [
    "#sorting in numpy by default our array is sorted in ascending order\n",
    "np.sort(alcohol)"
   ]
  },
  {
   "cell_type": "code",
   "execution_count": 47,
   "id": "b4c92c8b",
   "metadata": {},
   "outputs": [
    {
     "data": {
      "text/plain": [
       "array([14.83, 14.75, 14.39, 14.38, 14.38, 14.37, 14.34, 14.3 , 14.23,\n",
       "       14.22, 14.22, 14.21, 14.2 , 14.19, 14.16, 14.13, 14.12, 14.1 ,\n",
       "       14.1 , 14.06, 14.06, 14.02, 13.94, 13.9 , 13.88, 13.88, 13.87,\n",
       "       13.86, 13.86, 13.84, 13.83, 13.83, 13.82, 13.78, 13.77, 13.76,\n",
       "       13.75, 13.74, 13.73, 13.73, 13.72, 13.71, 13.71, 13.69, 13.68,\n",
       "       13.67, 13.64, 13.63, 13.62, 13.58, 13.58, 13.56, 13.56, 13.52,\n",
       "       13.51, 13.5 , 13.5 , 13.49, 13.49, 13.48, 13.48, 13.45, 13.41,\n",
       "       13.4 , 13.4 , 13.39, 13.36, 13.34, 13.32, 13.3 , 13.29, 13.28,\n",
       "       13.27, 13.24, 13.24, 13.23, 13.2 , 13.17, 13.17, 13.16, 13.16,\n",
       "       13.11, 13.11, 13.08, 13.07, 13.05, 13.05, 13.05, 13.05, 13.05,\n",
       "       13.05, 13.03, 12.99, 12.96, 12.93, 12.93, 12.88, 12.87, 12.86,\n",
       "       12.85, 12.85, 12.84, 12.82, 12.81, 12.79, 12.77, 12.77, 12.72,\n",
       "       12.72, 12.7 , 12.7 , 12.69, 12.67, 12.64, 12.6 , 12.6 , 12.58,\n",
       "       12.53, 12.52, 12.51, 12.51, 12.47, 12.45, 12.43, 12.42, 12.42,\n",
       "       12.42, 12.37, 12.37, 12.37, 12.37, 12.37, 12.37, 12.36, 12.34,\n",
       "       12.33, 12.33, 12.29, 12.29, 12.29, 12.29, 12.25, 12.25, 12.25,\n",
       "       12.22, 12.21, 12.2 , 12.17, 12.16, 12.08, 12.08, 12.08, 12.08,\n",
       "       12.08, 12.07, 12.04, 12.  , 12.  , 12.  , 11.96, 11.87, 11.84,\n",
       "       11.84, 11.82, 11.82, 11.81, 11.79, 11.76, 11.66, 11.65, 11.64,\n",
       "       11.62, 11.61, 11.56, 11.46, 11.45, 11.41, 11.03])"
      ]
     },
     "execution_count": 47,
     "metadata": {},
     "output_type": "execute_result"
    }
   ],
   "source": [
    "#to rverse the order of sorting\n",
    "np.sort(alcohol)[::-1]\n",
    "#this reverses the aray"
   ]
  },
  {
   "cell_type": "code",
   "execution_count": 48,
   "id": "299cec47",
   "metadata": {},
   "outputs": [
    {
     "data": {
      "text/plain": [
       "array([115, 113, 120, 110, 121, 109,  94,  88,  87,  75, 112, 127,  96,\n",
       "       103, 116,  84,  77, 124,  74, 119,  91,  80, 129, 125,  82, 114,\n",
       "        89,  90, 100,  86,  64, 170,  69, 108, 144, 136, 106,  97,  70,\n",
       "        93,  99,  60,  78, 102, 160,  67,  65,  63,  98, 128,  59, 105,\n",
       "       122, 117, 126, 157,  95, 104, 134, 111, 137, 154, 135, 101,  61,\n",
       "        85,  92,  79, 133, 107,  81, 171, 118, 151, 132, 167, 139,  23,\n",
       "       162, 130, 147, 131,  21, 140, 163,  73,  76, 123,  44,  25,  83,\n",
       "        37,  50,  38, 149,  66, 152, 145,   2, 176, 155,   1, 153,   4,\n",
       "        43, 175,  36,  57,  27, 148,  68, 141,  26, 174, 169,  41, 166,\n",
       "       159,  35, 138,  72, 150,  24,  34, 142,  55,  40,  31, 168, 143,\n",
       "        15,  19,  62,  32, 161,  22, 173,  58,  30, 165,  54,  12,  33,\n",
       "        53, 164,  52,  51,  17, 156,  71,   9,  28,  42, 146,  47,  49,\n",
       "        29,  20,   7,  48,  10,  11, 177, 172,  18,   5,  45,  56,  39,\n",
       "         0,  16, 158,   3,  46,  14,   6,  13,   8], dtype=int64)"
      ]
     },
     "execution_count": 48,
     "metadata": {},
     "output_type": "execute_result"
    }
   ],
   "source": [
    "#to sort the entire dataset\n",
    "np.argsort(alcohol)\n",
    "\n",
    " "
   ]
  },
  {
   "cell_type": "code",
   "execution_count": 49,
   "id": "9c817e8e",
   "metadata": {},
   "outputs": [
    {
     "data": {
      "text/plain": [
       "array([ 1,  4,  7, 10, 13, 16, 19, 22, 25, 28, 31, 34, 37, 40, 43, 46, 49,\n",
       "       52, 55, 58, 61, 64, 67, 70, 73, 76, 79, 82, 85, 88, 91, 94, 97])"
      ]
     },
     "execution_count": 49,
     "metadata": {},
     "output_type": "execute_result"
    }
   ],
   "source": [
    "np.arange(1,100,3)#this is use when we want to create ranges of integers"
   ]
  },
  {
   "cell_type": "code",
   "execution_count": 51,
   "id": "ab6e3199",
   "metadata": {},
   "outputs": [],
   "source": [
    "#to create a range with a float value in it\n",
    "np.linspace?"
   ]
  },
  {
   "cell_type": "code",
   "execution_count": 52,
   "id": "178e515e",
   "metadata": {},
   "outputs": [],
   "source": [
    "#reshapping an array\n",
    "from sklearn.datasets import load_digits"
   ]
  },
  {
   "cell_type": "code",
   "execution_count": 53,
   "id": "83395b86",
   "metadata": {},
   "outputs": [],
   "source": [
    "data_bunch_digits = load_digits()"
   ]
  },
  {
   "cell_type": "code",
   "execution_count": 54,
   "id": "b43bfcf1",
   "metadata": {},
   "outputs": [],
   "source": [
    "digits_data = data_bunch_digits['data']"
   ]
  },
  {
   "cell_type": "code",
   "execution_count": 55,
   "id": "b8c54c60",
   "metadata": {},
   "outputs": [
    {
     "data": {
      "text/plain": [
       "(1797, 64)"
      ]
     },
     "execution_count": 55,
     "metadata": {},
     "output_type": "execute_result"
    }
   ],
   "source": [
    "digits_data.shape"
   ]
  },
  {
   "cell_type": "code",
   "execution_count": 56,
   "id": "e3b36b1e",
   "metadata": {},
   "outputs": [
    {
     "data": {
      "text/plain": [
       "array([ 0.,  0.,  5., 13.,  9.,  1.,  0.,  0.,  0.,  0., 13., 15., 10.,\n",
       "       15.,  5.,  0.,  0.,  3., 15.,  2.,  0., 11.,  8.,  0.,  0.,  4.,\n",
       "       12.,  0.,  0.,  8.,  8.,  0.,  0.,  5.,  8.,  0.,  0.,  9.,  8.,\n",
       "        0.,  0.,  4., 11.,  0.,  1., 12.,  7.,  0.,  0.,  2., 14.,  5.,\n",
       "       10., 12.,  0.,  0.,  0.,  0.,  6., 13., 10.,  0.,  0.,  0.])"
      ]
     },
     "execution_count": 56,
     "metadata": {},
     "output_type": "execute_result"
    }
   ],
   "source": [
    "digits_data[0]"
   ]
  },
  {
   "cell_type": "code",
   "execution_count": null,
   "id": "7de27089",
   "metadata": {},
   "outputs": [],
   "source": []
  }
 ],
 "metadata": {
  "kernelspec": {
   "display_name": "Python 3 (ipykernel)",
   "language": "python",
   "name": "python3"
  },
  "language_info": {
   "codemirror_mode": {
    "name": "ipython",
    "version": 3
   },
   "file_extension": ".py",
   "mimetype": "text/x-python",
   "name": "python",
   "nbconvert_exporter": "python",
   "pygments_lexer": "ipython3",
   "version": "3.10.9"
  }
 },
 "nbformat": 4,
 "nbformat_minor": 5
}
