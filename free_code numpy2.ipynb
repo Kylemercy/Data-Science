{
 "cells": [
  {
   "cell_type": "code",
   "execution_count": 1,
   "id": "5a344bbb",
   "metadata": {},
   "outputs": [],
   "source": [
    "import numpy as np\n"
   ]
  },
  {
   "cell_type": "code",
   "execution_count": 2,
   "id": "5e7d9ab1",
   "metadata": {},
   "outputs": [
    {
     "name": "stdout",
     "output_type": "stream",
     "text": [
      "[1 3 5]\n"
     ]
    }
   ],
   "source": [
    "a = np.array([1,3,5])\n",
    "print(a)"
   ]
  },
  {
   "cell_type": "code",
   "execution_count": 3,
   "id": "ad419cc4",
   "metadata": {},
   "outputs": [
    {
     "name": "stdout",
     "output_type": "stream",
     "text": [
      "[[2 4 6]\n",
      " [6 7 8]]\n"
     ]
    }
   ],
   "source": [
    "b = np.array([[2,4,6],[6,7,8]])\n",
    "print(b)"
   ]
  },
  {
   "cell_type": "code",
   "execution_count": 4,
   "id": "bb777ac2",
   "metadata": {},
   "outputs": [
    {
     "data": {
      "text/plain": [
       "1"
      ]
     },
     "execution_count": 4,
     "metadata": {},
     "output_type": "execute_result"
    }
   ],
   "source": [
    "#how to get the dimension of an array\n",
    "a.ndim"
   ]
  },
  {
   "cell_type": "code",
   "execution_count": 5,
   "id": "f314bb20",
   "metadata": {},
   "outputs": [
    {
     "data": {
      "text/plain": [
       "(2, 3)"
      ]
     },
     "execution_count": 5,
     "metadata": {},
     "output_type": "execute_result"
    }
   ],
   "source": [
    "#we can also use shape but this tells us the numb of rows and column\n",
    "b.shape"
   ]
  },
  {
   "cell_type": "code",
   "execution_count": 6,
   "id": "25536f6a",
   "metadata": {},
   "outputs": [
    {
     "data": {
      "text/plain": [
       "dtype('int32')"
      ]
     },
     "execution_count": 6,
     "metadata": {},
     "output_type": "execute_result"
    }
   ],
   "source": [
    "a.dtype"
   ]
  },
  {
   "cell_type": "code",
   "execution_count": 7,
   "id": "dd10a17b",
   "metadata": {},
   "outputs": [
    {
     "data": {
      "text/plain": [
       "3"
      ]
     },
     "execution_count": 7,
     "metadata": {},
     "output_type": "execute_result"
    }
   ],
   "source": [
    "a.size"
   ]
  },
  {
   "cell_type": "code",
   "execution_count": 8,
   "id": "31bdb799",
   "metadata": {},
   "outputs": [
    {
     "data": {
      "text/plain": [
       "4"
      ]
     },
     "execution_count": 8,
     "metadata": {},
     "output_type": "execute_result"
    }
   ],
   "source": [
    "b.itemsize"
   ]
  },
  {
   "cell_type": "code",
   "execution_count": 9,
   "id": "4c90616e",
   "metadata": {},
   "outputs": [
    {
     "name": "stdout",
     "output_type": "stream",
     "text": [
      "[[ 2  3  4  5  6  7  8]\n",
      " [11 12 13 14 15 16 17]]\n"
     ]
    }
   ],
   "source": [
    "#acessing and changing specific elements rows and columns\n",
    "c = np.array([[2,3,4,5,6,7,8],[11,12,13,14,15,16,17]])\n",
    "print(c)"
   ]
  },
  {
   "cell_type": "code",
   "execution_count": 10,
   "id": "04e413a9",
   "metadata": {},
   "outputs": [
    {
     "data": {
      "text/plain": [
       "(2, 7)"
      ]
     },
     "execution_count": 10,
     "metadata": {},
     "output_type": "execute_result"
    }
   ],
   "source": [
    "c.shape"
   ]
  },
  {
   "cell_type": "code",
   "execution_count": 11,
   "id": "cd60f6b5",
   "metadata": {},
   "outputs": [
    {
     "data": {
      "text/plain": [
       "13"
      ]
     },
     "execution_count": 11,
     "metadata": {},
     "output_type": "execute_result"
    }
   ],
   "source": [
    "#to print the data 13\n",
    "c[1,2]"
   ]
  },
  {
   "cell_type": "code",
   "execution_count": 12,
   "id": "4826b634",
   "metadata": {},
   "outputs": [
    {
     "data": {
      "text/plain": [
       "array([ 6, 15])"
      ]
     },
     "execution_count": 12,
     "metadata": {},
     "output_type": "execute_result"
    }
   ],
   "source": [
    "c[:,4]"
   ]
  },
  {
   "cell_type": "code",
   "execution_count": 13,
   "id": "6dc46a58",
   "metadata": {},
   "outputs": [
    {
     "data": {
      "text/plain": [
       "array([2, 3, 4, 5, 6, 7, 8])"
      ]
     },
     "execution_count": 13,
     "metadata": {},
     "output_type": "execute_result"
    }
   ],
   "source": [
    "#to get a specific row and all column\n",
    "c[0,:]"
   ]
  },
  {
   "cell_type": "code",
   "execution_count": 14,
   "id": "022b16cd",
   "metadata": {},
   "outputs": [
    {
     "data": {
      "text/plain": [
       "array([4, 6])"
      ]
     },
     "execution_count": 14,
     "metadata": {},
     "output_type": "execute_result"
    }
   ],
   "source": [
    "c[0,(2,4)]"
   ]
  },
  {
   "cell_type": "code",
   "execution_count": 15,
   "id": "437381d8",
   "metadata": {},
   "outputs": [
    {
     "name": "stdout",
     "output_type": "stream",
     "text": [
      "[[ 2  3  4  5  6  7  8]\n",
      " [11 12 20 14 15 16 17]]\n"
     ]
    }
   ],
   "source": [
    "#to change an element\n",
    "c[1,2]= 20\n",
    "print(c)"
   ]
  },
  {
   "cell_type": "code",
   "execution_count": 16,
   "id": "2c96811b",
   "metadata": {},
   "outputs": [
    {
     "name": "stdout",
     "output_type": "stream",
     "text": [
      "[[ 2  3  5  5  6  7  8]\n",
      " [11 12  5 14 15 16 17]]\n"
     ]
    }
   ],
   "source": [
    "#to change more than one element this change the element in all the second coloumn of all the rows\n",
    "c[:,2] = 5\n",
    "print(c)"
   ]
  },
  {
   "cell_type": "code",
   "execution_count": 17,
   "id": "e8b86b75",
   "metadata": {},
   "outputs": [
    {
     "name": "stdout",
     "output_type": "stream",
     "text": [
      "[[ 2  3  5  5  6  7  8]\n",
      " [11 12  7 14 15 16 17]]\n"
     ]
    }
   ],
   "source": [
    "#to inset different element\n",
    "c[:,2] = [5,7]\n",
    "print(c)"
   ]
  },
  {
   "cell_type": "code",
   "execution_count": 18,
   "id": "79e53c2e",
   "metadata": {},
   "outputs": [
    {
     "name": "stdout",
     "output_type": "stream",
     "text": [
      "[[[ 3  4]\n",
      "  [ 5  6]]\n",
      "\n",
      " [[ 8  9]\n",
      "  [11 12]]]\n"
     ]
    }
   ],
   "source": [
    "#3d array\n",
    "d = np.array([[[3,4],[5,6]],[[8,9],[11,12]]])\n",
    "print(d)"
   ]
  },
  {
   "cell_type": "code",
   "execution_count": 19,
   "id": "73f9ca85",
   "metadata": {},
   "outputs": [
    {
     "data": {
      "text/plain": [
       "array([ 6, 12])"
      ]
     },
     "execution_count": 19,
     "metadata": {},
     "output_type": "execute_result"
    }
   ],
   "source": [
    "#to get an element from array d\n",
    "d[:,1,1]"
   ]
  },
  {
   "cell_type": "code",
   "execution_count": 20,
   "id": "2cc8f067",
   "metadata": {},
   "outputs": [
    {
     "data": {
      "text/plain": [
       "array([3, 8])"
      ]
     },
     "execution_count": 20,
     "metadata": {},
     "output_type": "execute_result"
    }
   ],
   "source": [
    "d[:,0,0]"
   ]
  },
  {
   "cell_type": "code",
   "execution_count": 21,
   "id": "6b647c7d",
   "metadata": {},
   "outputs": [
    {
     "data": {
      "text/plain": [
       "array([[ 3,  5],\n",
       "       [ 8, 11]])"
      ]
     },
     "execution_count": 21,
     "metadata": {},
     "output_type": "execute_result"
    }
   ],
   "source": [
    "#all the rows in first column\n",
    "d[:,:,0]"
   ]
  },
  {
   "cell_type": "code",
   "execution_count": 22,
   "id": "53de6198",
   "metadata": {},
   "outputs": [
    {
     "data": {
      "text/plain": [
       "array([[ 8,  9],\n",
       "       [11, 12]])"
      ]
     },
     "execution_count": 22,
     "metadata": {},
     "output_type": "execute_result"
    }
   ],
   "source": [
    "d[1,(0,1)]"
   ]
  },
  {
   "cell_type": "code",
   "execution_count": 23,
   "id": "1988228d",
   "metadata": {},
   "outputs": [
    {
     "data": {
      "text/plain": [
       "array([[3, 4],\n",
       "       [5, 6]])"
      ]
     },
     "execution_count": 23,
     "metadata": {},
     "output_type": "execute_result"
    }
   ],
   "source": [
    "#or\n",
    "d[0,:,:]"
   ]
  },
  {
   "cell_type": "code",
   "execution_count": 24,
   "id": "5f3a3b7a",
   "metadata": {},
   "outputs": [
    {
     "data": {
      "text/plain": [
       "array([[ 5,  6],\n",
       "       [11, 12]])"
      ]
     },
     "execution_count": 24,
     "metadata": {},
     "output_type": "execute_result"
    }
   ],
   "source": [
    "d[:,1,:]"
   ]
  },
  {
   "cell_type": "markdown",
   "id": "3bdbfebd",
   "metadata": {},
   "source": [
    "# initializing different types of arrays\n",
    "\n"
   ]
  },
  {
   "cell_type": "code",
   "execution_count": 25,
   "id": "e425c21b",
   "metadata": {},
   "outputs": [
    {
     "data": {
      "text/plain": [
       "array([0., 0., 0., 0., 0.])"
      ]
     },
     "execution_count": 25,
     "metadata": {},
     "output_type": "execute_result"
    }
   ],
   "source": [
    "#all zeroes matrics\n",
    "np.zeros(5)"
   ]
  },
  {
   "cell_type": "code",
   "execution_count": 26,
   "id": "10b8bbaf",
   "metadata": {},
   "outputs": [
    {
     "data": {
      "text/plain": [
       "array([[0., 0., 0.],\n",
       "       [0., 0., 0.]])"
      ]
     },
     "execution_count": 26,
     "metadata": {},
     "output_type": "execute_result"
    }
   ],
   "source": [
    "#for 2dimensional\n",
    "np.zeros((2,3))"
   ]
  },
  {
   "cell_type": "code",
   "execution_count": 27,
   "id": "12863fbc",
   "metadata": {},
   "outputs": [
    {
     "data": {
      "text/plain": [
       "array([[[1., 1.],\n",
       "        [1., 1.]],\n",
       "\n",
       "       [[1., 1.],\n",
       "        [1., 1.]],\n",
       "\n",
       "       [[1., 1.],\n",
       "        [1., 1.]],\n",
       "\n",
       "       [[1., 1.],\n",
       "        [1., 1.]]])"
      ]
     },
     "execution_count": 27,
     "metadata": {},
     "output_type": "execute_result"
    }
   ],
   "source": [
    "#all ones matix\n",
    "np.ones((4,2,2))"
   ]
  },
  {
   "cell_type": "code",
   "execution_count": 28,
   "id": "9f4710aa",
   "metadata": {},
   "outputs": [
    {
     "data": {
      "text/plain": [
       "array([[23., 23., 23.],\n",
       "       [23., 23., 23.]])"
      ]
     },
     "execution_count": 28,
     "metadata": {},
     "output_type": "execute_result"
    }
   ],
   "source": [
    "#for any other number\n",
    "np.full((2,3),23,dtype = 'float')"
   ]
  },
  {
   "cell_type": "code",
   "execution_count": 29,
   "id": "0fb59b56",
   "metadata": {},
   "outputs": [
    {
     "data": {
      "text/plain": [
       "array([[0.13752776, 0.75919155, 0.09365473],\n",
       "       [0.29719807, 0.13190132, 0.53991292],\n",
       "       [0.64233139, 0.47750298, 0.97122158],\n",
       "       [0.21863997, 0.41507092, 0.22987793]])"
      ]
     },
     "execution_count": 29,
     "metadata": {},
     "output_type": "execute_result"
    }
   ],
   "source": [
    "#random demcimalnumbers\n",
    "np.random.rand(4,3)\n",
    "#this prints a 4 x 3 matix with random decimal numbers between 0 and 1\n"
   ]
  },
  {
   "cell_type": "code",
   "execution_count": 30,
   "id": "de50d760",
   "metadata": {},
   "outputs": [
    {
     "data": {
      "text/plain": [
       "array([[[0.91593528, 0.78802732],\n",
       "        [0.50730363, 0.02182554],\n",
       "        [0.6681612 , 0.59288933]],\n",
       "\n",
       "       [[0.54161356, 0.63289362],\n",
       "        [0.70711641, 0.87683629],\n",
       "        [0.46962738, 0.34483648]],\n",
       "\n",
       "       [[0.02947092, 0.80693307],\n",
       "        [0.50683545, 0.4430976 ],\n",
       "        [0.61358993, 0.41386407]],\n",
       "\n",
       "       [[0.15033824, 0.56616021],\n",
       "        [0.22274349, 0.2491197 ],\n",
       "        [0.08567864, 0.93386295]]])"
      ]
     },
     "execution_count": 30,
     "metadata": {},
     "output_type": "execute_result"
    }
   ],
   "source": [
    "np.random.rand(4,3,2)"
   ]
  },
  {
   "cell_type": "markdown",
   "id": "e34fff60",
   "metadata": {},
   "source": [
    "##random integer values\n"
   ]
  },
  {
   "cell_type": "code",
   "execution_count": 31,
   "id": "98d46342",
   "metadata": {},
   "outputs": [
    {
     "data": {
      "text/plain": [
       "array([[14, 29, 15],\n",
       "       [20, 19, 45],\n",
       "       [15, 42, 37]])"
      ]
     },
     "execution_count": 31,
     "metadata": {},
     "output_type": "execute_result"
    }
   ],
   "source": [
    "np.random.randint(12,71,size =(3,3))\n",
    "#this  prints random integers between 12 to 71 in a 3 by 3 matrix format "
   ]
  },
  {
   "cell_type": "raw",
   "id": "15fa0f43",
   "metadata": {},
   "source": [
    "#to repeat an array\n"
   ]
  },
  {
   "cell_type": "code",
   "execution_count": 32,
   "id": "c27543c4",
   "metadata": {},
   "outputs": [
    {
     "name": "stdout",
     "output_type": "stream",
     "text": [
      "[[1 2 3]\n",
      " [1 2 3]\n",
      " [1 2 3]]\n"
     ]
    }
   ],
   "source": [
    "arr = np.array([[1,2,3]])\n",
    "r1 = np.repeat(arr,3,axis=0)\n",
    "print(r1)"
   ]
  },
  {
   "cell_type": "code",
   "execution_count": 33,
   "id": "809c816f",
   "metadata": {},
   "outputs": [
    {
     "name": "stdout",
     "output_type": "stream",
     "text": [
      "[[1 1 1 1 1]\n",
      " [1 1 1 1 1]\n",
      " [1 1 1 1 1]\n",
      " [1 1 1 1 1]\n",
      " [1 1 1 1 1]]\n",
      "[[0. 0. 0.]\n",
      " [0. 0. 0.]\n",
      " [0. 0. 0.]]\n"
     ]
    }
   ],
   "source": [
    "s = np.ones((5,5),dtype = 'int')\n",
    "print(s)\n",
    "z = np.zeros((3,3))\n",
    "print(z)"
   ]
  },
  {
   "cell_type": "code",
   "execution_count": 34,
   "id": "bd2619dd",
   "metadata": {},
   "outputs": [
    {
     "name": "stdout",
     "output_type": "stream",
     "text": [
      "[[0. 0. 0.]\n",
      " [0. 9. 0.]\n",
      " [0. 0. 0.]]\n",
      "[[1 1 1 1 1]\n",
      " [1 0 0 0 1]\n",
      " [1 0 9 0 1]\n",
      " [1 0 0 0 1]\n",
      " [1 1 1 1 1]]\n"
     ]
    }
   ],
   "source": [
    "z[1,1]=9\n",
    "print(z)\n",
    "\n",
    "s[1:4,1:4] = z\n",
    "print(s)"
   ]
  },
  {
   "cell_type": "markdown",
   "id": "f188262e",
   "metadata": {},
   "source": [
    "## becarefule when copying arrays"
   ]
  },
  {
   "cell_type": "code",
   "execution_count": 35,
   "id": "5d22e3d6",
   "metadata": {},
   "outputs": [
    {
     "data": {
      "text/plain": [
       "array([24, 20, 34])"
      ]
     },
     "execution_count": 35,
     "metadata": {},
     "output_type": "execute_result"
    }
   ],
   "source": [
    "a = np.array([12,20,34])\n",
    "b = a\n",
    "b\n",
    "#b has same value as a\n",
    "b[0] =  24\n",
    "b\n",
    "#the value of b is changed to 34 same as the value of a"
   ]
  },
  {
   "cell_type": "code",
   "execution_count": 36,
   "id": "48d17075",
   "metadata": {},
   "outputs": [
    {
     "data": {
      "text/plain": [
       "array([34, 20, 34])"
      ]
     },
     "execution_count": 36,
     "metadata": {},
     "output_type": "execute_result"
    }
   ],
   "source": [
    "ab = np.array([24, 20, 34])\n",
    "b = ab.copy()\n",
    "b\n",
    "#b is now a copy of a\n",
    "b[0] =  34\n",
    "b\n",
    "\n",
    "#copy attribute is use to prevent the error seen above"
   ]
  },
  {
   "cell_type": "markdown",
   "id": "6771d85a",
   "metadata": {},
   "source": [
    "##mathematics\n"
   ]
  },
  {
   "cell_type": "code",
   "execution_count": 37,
   "id": "485d9f36",
   "metadata": {},
   "outputs": [
    {
     "data": {
      "text/plain": [
       "array([26, 22, 36])"
      ]
     },
     "execution_count": 37,
     "metadata": {},
     "output_type": "execute_result"
    }
   ],
   "source": [
    "ab + 2"
   ]
  },
  {
   "cell_type": "code",
   "execution_count": 38,
   "id": "70431aa9",
   "metadata": {},
   "outputs": [
    {
     "data": {
      "text/plain": [
       "array([22, 18, 32])"
      ]
     },
     "execution_count": 38,
     "metadata": {},
     "output_type": "execute_result"
    }
   ],
   "source": [
    "ab - 2"
   ]
  },
  {
   "cell_type": "code",
   "execution_count": 39,
   "id": "13ef4120",
   "metadata": {},
   "outputs": [
    {
     "data": {
      "text/plain": [
       "array([ 72,  60, 102])"
      ]
     },
     "execution_count": 39,
     "metadata": {},
     "output_type": "execute_result"
    }
   ],
   "source": [
    "ab * 3"
   ]
  },
  {
   "cell_type": "code",
   "execution_count": 40,
   "id": "1db73aee",
   "metadata": {},
   "outputs": [
    {
     "data": {
      "text/plain": [
       "array([12., 10., 17.])"
      ]
     },
     "execution_count": 40,
     "metadata": {},
     "output_type": "execute_result"
    }
   ],
   "source": [
    "ab/2"
   ]
  },
  {
   "cell_type": "code",
   "execution_count": 41,
   "id": "e2ab2f71",
   "metadata": {},
   "outputs": [
    {
     "data": {
      "text/plain": [
       "array([ 576,  400, 1156])"
      ]
     },
     "execution_count": 41,
     "metadata": {},
     "output_type": "execute_result"
    }
   ],
   "source": [
    "ab**2"
   ]
  },
  {
   "cell_type": "code",
   "execution_count": 42,
   "id": "e1569a6d",
   "metadata": {},
   "outputs": [
    {
     "data": {
      "text/plain": [
       "array([-0.90557836,  0.91294525,  0.52908269])"
      ]
     },
     "execution_count": 42,
     "metadata": {},
     "output_type": "execute_result"
    }
   ],
   "source": [
    "#sin\n",
    "np.sin(ab)"
   ]
  },
  {
   "cell_type": "code",
   "execution_count": 43,
   "id": "1f404b48",
   "metadata": {},
   "outputs": [
    {
     "data": {
      "text/plain": [
       "array([ 0.42417901,  0.40808206, -0.84857027])"
      ]
     },
     "execution_count": 43,
     "metadata": {},
     "output_type": "execute_result"
    }
   ],
   "source": [
    "np.cos(ab)"
   ]
  },
  {
   "cell_type": "markdown",
   "id": "77f6fd3c",
   "metadata": {},
   "source": [
    "#linear algeabra"
   ]
  },
  {
   "cell_type": "code",
   "execution_count": 44,
   "id": "7dcd2ef8",
   "metadata": {},
   "outputs": [
    {
     "name": "stdout",
     "output_type": "stream",
     "text": [
      "[[1. 1. 1.]\n",
      " [1. 1. 1.]]\n",
      "[[2 2]\n",
      " [2 2]\n",
      " [2 2]]\n"
     ]
    },
    {
     "data": {
      "text/plain": [
       "array([[6., 6.],\n",
       "       [6., 6.]])"
      ]
     },
     "execution_count": 44,
     "metadata": {},
     "output_type": "execute_result"
    }
   ],
   "source": [
    "d = np.ones((2,3))\n",
    "print(d)\n",
    "t = np.full((3,2),2)\n",
    "print(t)\n",
    "#to multiply 2 matix\n",
    "np.matmul(d,t)"
   ]
  },
  {
   "cell_type": "code",
   "execution_count": 45,
   "id": "fbeb0490",
   "metadata": {},
   "outputs": [
    {
     "data": {
      "text/plain": [
       "array([11, 12,  7, 14, 15, 16, 17])"
      ]
     },
     "execution_count": 45,
     "metadata": {},
     "output_type": "execute_result"
    }
   ],
   "source": [
    "c[-1]\n",
    "#this prints all the elements in the last row"
   ]
  },
  {
   "cell_type": "code",
   "execution_count": 46,
   "id": "81ab222a",
   "metadata": {},
   "outputs": [
    {
     "name": "stdout",
     "output_type": "stream",
     "text": [
      "[6 7 8]\n",
      "[1 2 3]\n",
      "[9 4 3]\n"
     ]
    }
   ],
   "source": [
    " #our to iterate an array\n",
    "x = np.array([[6,7,8],[1,2,3],[9,4,3]])\n",
    "for cell in x:\n",
    "    print(cell)"
   ]
  },
  {
   "cell_type": "code",
   "execution_count": 47,
   "id": "19400452",
   "metadata": {},
   "outputs": [
    {
     "name": "stdout",
     "output_type": "stream",
     "text": [
      "6\n",
      "7\n",
      "8\n",
      "1\n",
      "2\n",
      "3\n",
      "9\n",
      "4\n",
      "3\n"
     ]
    }
   ],
   "source": [
    "#to flatten the list\n",
    "for cell in x.flat:\n",
    "    print(cell)"
   ]
  },
  {
   "cell_type": "code",
   "execution_count": 48,
   "id": "68e34f0f",
   "metadata": {},
   "outputs": [
    {
     "name": "stdout",
     "output_type": "stream",
     "text": [
      "[[0 1]\n",
      " [2 3]\n",
      " [4 5]]\n"
     ]
    },
    {
     "data": {
      "text/plain": [
       "array([[ 6,  7],\n",
       "       [ 8,  9],\n",
       "       [10, 11]])"
      ]
     },
     "execution_count": 48,
     "metadata": {},
     "output_type": "execute_result"
    }
   ],
   "source": [
    "#stacking 2 arrays\n",
    "v = np.arange(6).reshape(3,2)\n",
    "#this creates 3 by 2 an arrray fromrange 0 to 6 \n",
    "print(v)\n",
    "n = np.arange(6,12).reshape(3,2)\n",
    "\n",
    "n"
   ]
  },
  {
   "cell_type": "code",
   "execution_count": 49,
   "id": "89df38b7",
   "metadata": {},
   "outputs": [
    {
     "data": {
      "text/plain": [
       "array([[ 0,  1],\n",
       "       [ 2,  3],\n",
       "       [ 4,  5],\n",
       "       [ 6,  7],\n",
       "       [ 8,  9],\n",
       "       [10, 11]])"
      ]
     },
     "execution_count": 49,
     "metadata": {},
     "output_type": "execute_result"
    }
   ],
   "source": [
    "#to stack our arrays\n",
    "j = np.vstack((v,n))\n",
    "j\n",
    "#vstack - vertical stacking \n"
   ]
  },
  {
   "cell_type": "code",
   "execution_count": 50,
   "id": "39d50fac",
   "metadata": {},
   "outputs": [
    {
     "data": {
      "text/plain": [
       "array([[ 0,  1,  6,  7],\n",
       "       [ 2,  3,  8,  9],\n",
       "       [ 4,  5, 10, 11]])"
      ]
     },
     "execution_count": 50,
     "metadata": {},
     "output_type": "execute_result"
    }
   ],
   "source": [
    "#hstack horizontal sdtacking\n",
    "j = np.hstack((v,n))\n",
    "j"
   ]
  },
  {
   "cell_type": "code",
   "execution_count": 51,
   "id": "3dff5248",
   "metadata": {},
   "outputs": [
    {
     "data": {
      "text/plain": [
       "array([[ 0,  1,  2,  3,  4,  5,  6,  7,  8,  9, 10, 11, 12, 13, 14],\n",
       "       [15, 16, 17, 18, 19, 20, 21, 22, 23, 24, 25, 26, 27, 28, 29]])"
      ]
     },
     "execution_count": 51,
     "metadata": {},
     "output_type": "execute_result"
    }
   ],
   "source": [
    "t = np.arange(30).reshape(2,15)\n",
    "t"
   ]
  },
  {
   "cell_type": "code",
   "execution_count": 52,
   "id": "1fe86932",
   "metadata": {},
   "outputs": [
    {
     "data": {
      "text/plain": [
       "[array([[ 0,  1,  2,  3,  4],\n",
       "        [15, 16, 17, 18, 19]]),\n",
       " array([[ 5,  6,  7,  8,  9],\n",
       "        [20, 21, 22, 23, 24]]),\n",
       " array([[10, 11, 12, 13, 14],\n",
       "        [25, 26, 27, 28, 29]])]"
      ]
     },
     "execution_count": 52,
     "metadata": {},
     "output_type": "execute_result"
    }
   ],
   "source": [
    "#to split an array using hsplit-horizontal spliting\n",
    "result = np.hsplit(t,3)\n",
    "result"
   ]
  },
  {
   "cell_type": "code",
   "execution_count": 53,
   "id": "1b323a06",
   "metadata": {},
   "outputs": [
    {
     "data": {
      "text/plain": [
       "[array([[ 0,  1,  2,  3,  4,  5,  6,  7,  8,  9, 10, 11, 12, 13, 14]]),\n",
       " array([[15, 16, 17, 18, 19, 20, 21, 22, 23, 24, 25, 26, 27, 28, 29]])]"
      ]
     },
     "execution_count": 53,
     "metadata": {},
     "output_type": "execute_result"
    }
   ],
   "source": [
    "result = np.vsplit(t,2)\n",
    "result"
   ]
  },
  {
   "cell_type": "markdown",
   "id": "47dca8f6",
   "metadata": {},
   "source": [
    "## sorting of arrays"
   ]
  },
  {
   "cell_type": "code",
   "execution_count": 54,
   "id": "6f9f3638",
   "metadata": {},
   "outputs": [
    {
     "name": "stdout",
     "output_type": "stream",
     "text": [
      "[[6 7 8]\n",
      " [1 2 3]\n",
      " [3 4 9]]\n"
     ]
    }
   ],
   "source": [
    "sorted_array =  np.sort(x)\n",
    "print(sorted_array)"
   ]
  },
  {
   "cell_type": "markdown",
   "id": "dc1dced7",
   "metadata": {},
   "source": [
    "#to sort by column \n",
    "sorted_array =\n",
    "\n",
    "np.sort(x,axis = 0)\n",
    "print(sorted_array)"
   ]
  },
  {
   "cell_type": "code",
   "execution_count": 55,
   "id": "77fc5f92",
   "metadata": {},
   "outputs": [
    {
     "name": "stdout",
     "output_type": "stream",
     "text": [
      "[[6 7 8]\n",
      " [1 2 3]\n",
      " [3 4 9]]\n"
     ]
    }
   ],
   "source": [
    "#to by rows which is the default\n",
    "sorted_array =  np.sort(x,axis = -1)\n",
    "print(sorted_array)"
   ]
  },
  {
   "cell_type": "code",
   "execution_count": 56,
   "id": "d47abb1f",
   "metadata": {},
   "outputs": [],
   "source": [
    "##to calculate the dot product\n",
    "#this gives the total multiplication value of 2 array"
   ]
  },
  {
   "cell_type": "code",
   "execution_count": 57,
   "id": "8f29470c",
   "metadata": {},
   "outputs": [
    {
     "name": "stdout",
     "output_type": "stream",
     "text": [
      "56\n"
     ]
    }
   ],
   "source": [
    "l1 = np.array([2,3,4])\n",
    "l2 = np.array([5,6,7])\n",
    "dot = np.dot(l1,l2)\n",
    "print(dot)"
   ]
  },
  {
   "cell_type": "code",
   "execution_count": 58,
   "id": "9348013e",
   "metadata": {},
   "outputs": [
    {
     "name": "stdout",
     "output_type": "stream",
     "text": [
      "[[2 4]\n",
      " [5 7]\n",
      " [6 8]]\n",
      "[[0 0]\n",
      " [5 7]\n",
      " [6 8]]\n"
     ]
    }
   ],
   "source": [
    "set = np.array([[2,4],[5,7],[6,8]])\n",
    "print(set)\n",
    "#this prints the element which are greater than 4,if it is less than 4 the element is replaced by 0\n",
    "vr = np.where(set > 4, set ,0)\n",
    "print(vr)"
   ]
  },
  {
   "cell_type": "code",
   "execution_count": 59,
   "id": "8bc247e6",
   "metadata": {},
   "outputs": [],
   "source": [
    "#single array operations"
   ]
  },
  {
   "cell_type": "code",
   "execution_count": 60,
   "id": "c03afc89",
   "metadata": {},
   "outputs": [
    {
     "name": "stdout",
     "output_type": "stream",
     "text": [
      "10\n"
     ]
    }
   ],
   "source": [
    "array_a = np.array([[1,2],[3,4]])\n",
    "array_b = np.array([[2,2],[6,6]])\n",
    "print(array_a.sum())"
   ]
  },
  {
   "cell_type": "code",
   "execution_count": 61,
   "id": "ac564237",
   "metadata": {},
   "outputs": [
    {
     "name": "stdout",
     "output_type": "stream",
     "text": [
      "[4 6]\n"
     ]
    }
   ],
   "source": [
    "#to sum along an axis one for row zero for column\n",
    "print(array_a.sum(axis = 0))"
   ]
  },
  {
   "cell_type": "code",
   "execution_count": 62,
   "id": "85b1305d",
   "metadata": {},
   "outputs": [
    {
     "name": "stdout",
     "output_type": "stream",
     "text": [
      "[3 7]\n"
     ]
    }
   ],
   "source": [
    "print(array_a.sum(axis = 1))\n",
    "#along the rows"
   ]
  },
  {
   "cell_type": "code",
   "execution_count": 63,
   "id": "287b2012",
   "metadata": {},
   "outputs": [
    {
     "name": "stdout",
     "output_type": "stream",
     "text": [
      "[ 1  3  6 10]\n",
      "24\n",
      "[ 1  2  6 24]\n"
     ]
    }
   ],
   "source": [
    "print(array_a.cumsum())\n",
    "print(array_a.prod())\n",
    "print(array_a.cumprod())\n",
    "#note we can apply axis to any of this"
   ]
  },
  {
   "cell_type": "markdown",
   "id": "20715373",
   "metadata": {},
   "source": [
    "## two array math"
   ]
  },
  {
   "cell_type": "code",
   "execution_count": 66,
   "id": "b526b81a",
   "metadata": {},
   "outputs": [
    {
     "name": "stdout",
     "output_type": "stream",
     "text": [
      "[[ 3  4]\n",
      " [ 9 10]]\n",
      "[[-1  0]\n",
      " [-3 -2]]\n",
      "[[ 2  4]\n",
      " [18 24]]\n",
      "[[0.5        1.        ]\n",
      " [0.5        0.66666667]]\n"
     ]
    }
   ],
   "source": [
    "print(array_a + array_b)\n",
    "print(array_a - array_b)\n",
    "print(array_a * array_b)\n",
    "print(array_a  / array_b)"
   ]
  },
  {
   "cell_type": "code",
   "execution_count": 67,
   "id": "5dc65576",
   "metadata": {},
   "outputs": [
    {
     "name": "stdout",
     "output_type": "stream",
     "text": [
      "[[14 14]\n",
      " [30 30]]\n"
     ]
    }
   ],
   "source": [
    "#vector product\n",
    "print(np.dot(array_a,array_b))\n",
    "#[[1*2+2*6, 1*2+2*6],[3*2+4*6,3*2+4*6]]  "
   ]
  },
  {
   "cell_type": "code",
   "execution_count": 68,
   "id": "057b4858",
   "metadata": {},
   "outputs": [
    {
     "name": "stdout",
     "output_type": "stream",
     "text": [
      "[12 15 18]\n",
      "[ 6 15 24]\n"
     ]
    }
   ],
   "source": [
    "array_c =np.array([[1,2,3],[4,5,6],[7,8,9]])\n",
    "array_d =np.array([[2,2,2],[3,4,5],[6,7,8]])\n",
    "print(array_c.sum(axis = 0))\n",
    "print(array_c.sum(axis = 1))"
   ]
  },
  {
   "cell_type": "code",
   "execution_count": 70,
   "id": "ec54ae76",
   "metadata": {},
   "outputs": [
    {
     "name": "stdout",
     "output_type": "stream",
     "text": [
      "[[1 2 3]\n",
      " [4 5 6]\n",
      " [7 8 9]]\n",
      "[2 2 2]\n"
     ]
    }
   ],
   "source": [
    "print(array_c)\n",
    "print(array_c.ptp(axis = 1))\n",
    "\n",
    "#takes maxium number and subtract the minimumvalue for it along each row as axis = 1"
   ]
  },
  {
   "cell_type": "code",
   "execution_count": 71,
   "id": "ce78791e",
   "metadata": {},
   "outputs": [
    {
     "name": "stdout",
     "output_type": "stream",
     "text": [
      "[[1 2 3]\n",
      " [4 5 6]\n",
      " [7 8 9]]\n",
      "[6 6 6]\n"
     ]
    }
   ],
   "source": [
    "print(array_c)\n",
    "print(array_c.ptp(axis = 0))\n",
    "#for column"
   ]
  },
  {
   "cell_type": "code",
   "execution_count": 72,
   "id": "d0494376",
   "metadata": {},
   "outputs": [
    {
     "name": "stdout",
     "output_type": "stream",
     "text": [
      "[[1 2 3]\n",
      " [4 5 6]\n",
      " [7 8 9]]\n",
      "8\n"
     ]
    }
   ],
   "source": [
    "print(array_c)\n",
    "print(array_c.ptp())\n",
    "#if the axis is not specified it becomes highest num minus lowest num"
   ]
  },
  {
   "cell_type": "code",
   "execution_count": 74,
   "id": "bfd7dbf9",
   "metadata": {},
   "outputs": [
    {
     "name": "stdout",
     "output_type": "stream",
     "text": [
      "9\n",
      "5.0\n",
      "1\n"
     ]
    }
   ],
   "source": [
    "print(array_c.max())\n",
    "print(array_c.mean())\n",
    "print(array_c.min())"
   ]
  },
  {
   "cell_type": "raw",
   "id": "fed54bb1",
   "metadata": {},
   "source": []
  },
  {
   "cell_type": "code",
   "execution_count": 75,
   "id": "9377a5aa",
   "metadata": {},
   "outputs": [
    {
     "name": "stdout",
     "output_type": "stream",
     "text": [
      "[[       1        4        9]\n",
      " [      64      625     7776]\n",
      " [  117649  2097152 43046721]]\n"
     ]
    }
   ],
   "source": [
    "#power\n",
    "print(np.power(array_c,array_d))\n",
    "#first value is the base second is the exponent"
   ]
  },
  {
   "cell_type": "code",
   "execution_count": 79,
   "id": "20e48457",
   "metadata": {},
   "outputs": [
    {
     "name": "stdout",
     "output_type": "stream",
     "text": [
      "[[ 4  5  6]\n",
      " [ 9 11 13]\n",
      " [16 18 20]]\n",
      "[[  2   4   6]\n",
      " [ 24  40  60]\n",
      " [126 168 216]]\n",
      "[[ -2  -3  -4]\n",
      " [ -5  -7  -9]\n",
      " [-10 -12 -14]]\n"
     ]
    }
   ],
   "source": [
    "array_e = np.array([[1,1,1],[2,2,2],[3,3,3]])\n",
    "print(array_e + array_d + array_c)\n",
    "print(array_e * array_d * array_c)\n",
    "print(array_e - array_d - array_c)"
   ]
  },
  {
   "cell_type": "markdown",
   "id": "7f864a61",
   "metadata": {},
   "source": [
    "### Broadcasting\n",
    "#this allows us to do numerical operations on array of different shapes"
   ]
  },
  {
   "cell_type": "code",
   "execution_count": 82,
   "id": "449644e7",
   "metadata": {},
   "outputs": [
    {
     "name": "stdout",
     "output_type": "stream",
     "text": [
      "[[1 2 3 4]\n",
      " [2 3 4 5]\n",
      " [3 4 5 6]]\n",
      "[[2 2 2 2]\n",
      " [4 4 4 4]\n",
      " [6 6 6 6]]\n"
     ]
    }
   ],
   "source": [
    "array_x = np.array([[1,1,1,1],[2,2,2,2],[3,3,3,3]])\n",
    "array_y = np.array([0,1,2,3])\n",
    "array_z = np.array([[1],[2],[3]])\n",
    "print(array_x + array_y )\n",
    "print(array_x + array_z)"
   ]
  },
  {
   "cell_type": "code",
   "execution_count": 85,
   "id": "8d9c36a9",
   "metadata": {},
   "outputs": [
    {
     "name": "stdout",
     "output_type": "stream",
     "text": [
      "[[ 4  4  4]\n",
      " [ 7  7  7]\n",
      " [10 10 10]]\n",
      "[[ 4  5  6]\n",
      " [ 6  7  8]\n",
      " [ 8  9 10]]\n"
     ]
    }
   ],
   "source": [
    "#more on broadcasting\n",
    "array_r = np.array([[1,2,3],[4,5,6],[7,8,9]])\n",
    "array_u = np.array([3,2,1])\n",
    "print(array_r +array_u)\n",
    "#this adds 3 to all first element 2 to the second and 3 to the last\n",
    "#anpther method is matchin the num of columns\n",
    "array_i = np.array([[3],[2],[1]])\n",
    "print(array_r +array_i)"
   ]
  },
  {
   "cell_type": "code",
   "execution_count": 86,
   "id": "76128c8f",
   "metadata": {},
   "outputs": [
    {
     "ename": "NameError",
     "evalue": "name 'ones' is not defined",
     "output_type": "error",
     "traceback": [
      "\u001b[1;31m---------------------------------------------------------------------------\u001b[0m",
      "\u001b[1;31mNameError\u001b[0m                                 Traceback (most recent call last)",
      "Cell \u001b[1;32mIn[86], line 1\u001b[0m\n\u001b[1;32m----> 1\u001b[0m c \u001b[38;5;241m=\u001b[39m np\u001b[38;5;241m.\u001b[39marray(\u001b[43mones\u001b[49m,\u001b[38;5;241m5\u001b[39m)\n\u001b[0;32m      2\u001b[0m \u001b[38;5;28mprint\u001b[39m(c)\n",
      "\u001b[1;31mNameError\u001b[0m: name 'ones' is not defined"
     ]
    }
   ],
   "source": [
    "c = np.array(ones,5)\n",
    "print(c)"
   ]
  },
  {
   "cell_type": "code",
   "execution_count": null,
   "id": "021c7611",
   "metadata": {},
   "outputs": [],
   "source": []
  }
 ],
 "metadata": {
  "kernelspec": {
   "display_name": "Python 3 (ipykernel)",
   "language": "python",
   "name": "python3"
  },
  "language_info": {
   "codemirror_mode": {
    "name": "ipython",
    "version": 3
   },
   "file_extension": ".py",
   "mimetype": "text/x-python",
   "name": "python",
   "nbconvert_exporter": "python",
   "pygments_lexer": "ipython3",
   "version": "3.10.9"
  }
 },
 "nbformat": 4,
 "nbformat_minor": 5
}
