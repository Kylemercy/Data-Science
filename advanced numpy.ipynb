{
 "cells": [
  {
   "cell_type": "markdown",
   "id": "55adb3ae",
   "metadata": {},
   "source": [
    "## np.full\n"
   ]
  },
  {
   "cell_type": "code",
   "execution_count": 3,
   "id": "9d0a9181",
   "metadata": {},
   "outputs": [],
   "source": [
    "import numpy as np"
   ]
  },
  {
   "cell_type": "code",
   "execution_count": 4,
   "id": "019c5e07",
   "metadata": {},
   "outputs": [
    {
     "name": "stdout",
     "output_type": "stream",
     "text": [
      "[[4 4 4]\n",
      " [4 4 4]]\n"
     ]
    }
   ],
   "source": [
    "n1 = np.full((2,3),4)\n",
    "print(n1)"
   ]
  },
  {
   "cell_type": "code",
   "execution_count": 5,
   "id": "3e29efbc",
   "metadata": {},
   "outputs": [],
   "source": [
    "## random parameters: start stop and number of element"
   ]
  },
  {
   "cell_type": "code",
   "execution_count": 7,
   "id": "a11242e3",
   "metadata": {},
   "outputs": [
    {
     "name": "stdout",
     "output_type": "stream",
     "text": [
      "[28 38 87 21 86]\n"
     ]
    }
   ],
   "source": [
    "n2 = np.random.randint(1,100,5)\n",
    "print(n2)\n",
    "#this prints 5 random integers between 1 and 100"
   ]
  },
  {
   "cell_type": "code",
   "execution_count": 11,
   "id": "308a8532",
   "metadata": {},
   "outputs": [
    {
     "data": {
      "text/plain": [
       "array([[2, 6],\n",
       "       [3, 7],\n",
       "       [4, 8],\n",
       "       [5, 9]])"
      ]
     },
     "execution_count": 11,
     "metadata": {},
     "output_type": "execute_result"
    }
   ],
   "source": [
    "#columnstack\n",
    "n3 = np.array([2,3,4,5])\n",
    "n4 = np.array([6,7,8,9])\n",
    "np.column_stack((n3,n4))\n"
   ]
  },
  {
   "cell_type": "markdown",
   "id": "31dc439e",
   "metadata": {},
   "source": [
    "## intersection and difference methods"
   ]
  },
  {
   "cell_type": "code",
   "execution_count": 12,
   "id": "ef62a947",
   "metadata": {},
   "outputs": [],
   "source": [
    "v1 = np.array([12,14,16,18,20])\n",
    "v2 = np.array([10,20,30,40,50])"
   ]
  },
  {
   "cell_type": "code",
   "execution_count": 14,
   "id": "993da314",
   "metadata": {},
   "outputs": [
    {
     "data": {
      "text/plain": [
       "array([20])"
      ]
     },
     "execution_count": 14,
     "metadata": {},
     "output_type": "execute_result"
    }
   ],
   "source": [
    "np.intersect1d(v1,v2)\n",
    "#prints intersect of v1 and v2"
   ]
  },
  {
   "cell_type": "code",
   "execution_count": 15,
   "id": "763e4cd8",
   "metadata": {},
   "outputs": [
    {
     "data": {
      "text/plain": [
       "array([12, 14, 16, 18])"
      ]
     },
     "execution_count": 15,
     "metadata": {},
     "output_type": "execute_result"
    }
   ],
   "source": [
    "np.setdiff1d(v1,v2)\n",
    "#diff of v2 from v1"
   ]
  },
  {
   "cell_type": "code",
   "execution_count": 16,
   "id": "b5432585",
   "metadata": {},
   "outputs": [
    {
     "data": {
      "text/plain": [
       "array([10, 30, 40, 50])"
      ]
     },
     "execution_count": 16,
     "metadata": {},
     "output_type": "execute_result"
    }
   ],
   "source": [
    "np.setdiff1d(v2,v1)"
   ]
  },
  {
   "cell_type": "markdown",
   "id": "100735bc",
   "metadata": {},
   "source": [
    "### questions"
   ]
  },
  {
   "cell_type": "code",
   "execution_count": 17,
   "id": "340fa97b",
   "metadata": {},
   "outputs": [
    {
     "data": {
      "text/plain": [
       "array([1, 2, 3, 4, 5, 6, 7, 8, 9])"
      ]
     },
     "execution_count": 17,
     "metadata": {},
     "output_type": "execute_result"
    }
   ],
   "source": [
    "#create a 1d array from 0 to 9\n",
    "arr = np.arange(1,10)\n",
    "arr"
   ]
  },
  {
   "cell_type": "code",
   "execution_count": 28,
   "id": "f16710c3",
   "metadata": {},
   "outputs": [
    {
     "name": "stdout",
     "output_type": "stream",
     "text": [
      "[[ True  True  True]\n",
      " [ True  True  True]\n",
      " [ True  True  True]]\n"
     ]
    }
   ],
   "source": [
    "\n",
    "b1= np.ones((3,3),dtype = 'bool')\n",
    "print(b1)"
   ]
  },
  {
   "cell_type": "code",
   "execution_count": 27,
   "id": "bdaf5009",
   "metadata": {},
   "outputs": [
    {
     "name": "stdout",
     "output_type": "stream",
     "text": [
      "[[ True  True  True]\n",
      " [ True  True  True]\n",
      " [ True  True  True]]\n"
     ]
    }
   ],
   "source": [
    "#craete a 3x3 array with all true\n",
    "c= np.full((3,3),True,dtype='bool')\n",
    "print(c)"
   ]
  },
  {
   "cell_type": "code",
   "execution_count": 32,
   "id": "d573f47f",
   "metadata": {},
   "outputs": [
    {
     "name": "stdout",
     "output_type": "stream",
     "text": [
      "[ 1  3  5  7  9 11 13 15 17 19]\n"
     ]
    }
   ],
   "source": [
    "#extract all odd numbs from an array\n",
    "d = np.arange(1,20)\n",
    "c = d[d%2==1]\n",
    "print(c)"
   ]
  },
  {
   "cell_type": "code",
   "execution_count": 37,
   "id": "07765843",
   "metadata": {},
   "outputs": [
    {
     "name": "stdout",
     "output_type": "stream",
     "text": [
      "[-1  2 -1  4 -1  6 -1  8 -1]\n"
     ]
    }
   ],
   "source": [
    "#replace all odd numbers with -1\n",
    "d = np.arange(1,10)\n",
    "c = np.where((d % 2 == 0),d,-1)\n",
    "print(c)"
   ]
  },
  {
   "cell_type": "code",
   "execution_count": 38,
   "id": "23baab74",
   "metadata": {},
   "outputs": [
    {
     "name": "stdout",
     "output_type": "stream",
     "text": [
      "[ 1 -1  3 -1  5 -1  7 -1  9 -1 11 -1 13 -1 15 -1 17 -1 19]\n"
     ]
    }
   ],
   "source": [
    "#or \n",
    "d = np.arange(1,10)\n",
    "d[d%2==0] = -1\n",
    "print(d)"
   ]
  },
  {
   "cell_type": "code",
   "execution_count": 53,
   "id": "f58ec9af",
   "metadata": {},
   "outputs": [
    {
     "name": "stdout",
     "output_type": "stream",
     "text": [
      "[0 1 2 3 4 5 6 7 8 9]\n",
      "[[0 1 2 3 4]\n",
      " [5 6 7 8 9]]\n"
     ]
    }
   ],
   "source": [
    "#convert  a 1d array to 2d array with 2 rows\n",
    "arr = np.arange(10)\n",
    "print(arr)\n",
    "e2 = arr.reshape(2,5)\n",
    "print(e2)\n"
   ]
  },
  {
   "cell_type": "code",
   "execution_count": 56,
   "id": "c711b28c",
   "metadata": {},
   "outputs": [
    {
     "data": {
      "text/plain": [
       "array([1, 1, 1, 2, 2, 2, 3, 3, 3, 1, 2, 3, 1, 2, 3, 1, 2, 3])"
      ]
     },
     "execution_count": 56,
     "metadata": {},
     "output_type": "execute_result"
    }
   ],
   "source": [
    "#create this pattern(1,1,1,2,,2,2,,3,3,3)\n",
    "a = np.array([1,2,3])\n",
    "np.r_[(np.repeat(a,3),np.tile(a,3))]\n",
    "#r_ is use to concanate any number of array slicies along the row axis\n",
    "#np.tile use to repeat an aray based on the number of times sppecified\n"
   ]
  },
  {
   "cell_type": "code",
   "execution_count": 57,
   "id": "dcccd5e1",
   "metadata": {},
   "outputs": [
    {
     "data": {
      "text/plain": [
       "array([1, 2, 3, 1, 2, 3, 1, 2, 3, 1, 2, 3])"
      ]
     },
     "execution_count": 57,
     "metadata": {},
     "output_type": "execute_result"
    }
   ],
   "source": [
    "np.tile(a,4)\n",
    "   "
   ]
  },
  {
   "cell_type": "markdown",
   "id": "7d2121c2",
   "metadata": {},
   "source": [
    "## advanced indexing"
   ]
  },
  {
   "cell_type": "code",
   "execution_count": 58,
   "id": "ece677bb",
   "metadata": {},
   "outputs": [
    {
     "data": {
      "text/plain": [
       "array([3, 7])"
      ]
     },
     "execution_count": 58,
     "metadata": {},
     "output_type": "execute_result"
    }
   ],
   "source": [
    "b = np.array([[1,2,3],[4,5,6],[7,8,9]])\n",
    "#to get 3 and 7\n",
    "b[[0,2],[2,0]]\n",
    "#the first list is the row of both 3 and 7 and the second is their column"
   ]
  },
  {
   "cell_type": "code",
   "execution_count": 59,
   "id": "4cf6b67e",
   "metadata": {},
   "outputs": [
    {
     "data": {
      "text/plain": [
       "array([2, 4, 7])"
      ]
     },
     "execution_count": 59,
     "metadata": {},
     "output_type": "execute_result"
    }
   ],
   "source": [
    "t = np.array([[1,2],[3,4],[5,6],[7,8]])\n",
    "#to get 4,2,7\n",
    "t[[0,1,3],[1,1,0]]"
   ]
  },
  {
   "cell_type": "code",
   "execution_count": 61,
   "id": "2a80c113",
   "metadata": {},
   "outputs": [
    {
     "data": {
      "text/plain": [
       "array([2, 7, 4])"
      ]
     },
     "execution_count": 61,
     "metadata": {},
     "output_type": "execute_result"
    }
   ],
   "source": [
    "t[[0,3,1],[1,0,1]]"
   ]
  },
  {
   "cell_type": "code",
   "execution_count": 62,
   "id": "a39b11b7",
   "metadata": {},
   "outputs": [
    {
     "data": {
      "text/plain": [
       "array([1, 4, 5])"
      ]
     },
     "execution_count": 62,
     "metadata": {},
     "output_type": "execute_result"
    }
   ],
   "source": [
    "t[[0,1,2],[0,1,0]]"
   ]
  },
  {
   "cell_type": "code",
   "execution_count": 64,
   "id": "47050205",
   "metadata": {},
   "outputs": [
    {
     "name": "stdout",
     "output_type": "stream",
     "text": [
      "[[ 0  2]\n",
      " [10 11]]\n"
     ]
    }
   ],
   "source": [
    "r = np.array([[0,1,2],[3,4,5],[6,7,8],[9,10,11]])\n",
    "#to get 0,2 and 9 11\n",
    "rows = np.array([[0,0],[3,3]])\n",
    "# as 0,2 are in first row and 10 11 are on 3 row\n",
    "column = np.array([[0,2],[1,2]])\n",
    "y = r[rows,column]\n",
    "print(y)"
   ]
  },
  {
   "cell_type": "code",
   "execution_count": 65,
   "id": "29d3fac7",
   "metadata": {},
   "outputs": [
    {
     "name": "stdout",
     "output_type": "stream",
     "text": [
      "[[ 2  7]\n",
      " [ 8 10]]\n"
     ]
    }
   ],
   "source": [
    "#more examples\n",
    "#2,7 and 8,10\n",
    "rows = np.array([[0,2],[2,3]])\n",
    "column = np.array([[2,1],[2,1]])\n",
    "y = r[rows,column]\n",
    "print(y)"
   ]
  },
  {
   "cell_type": "code",
   "execution_count": null,
   "id": "87cdc19f",
   "metadata": {},
   "outputs": [],
   "source": []
  }
 ],
 "metadata": {
  "kernelspec": {
   "display_name": "Python 3 (ipykernel)",
   "language": "python",
   "name": "python3"
  },
  "language_info": {
   "codemirror_mode": {
    "name": "ipython",
    "version": 3
   },
   "file_extension": ".py",
   "mimetype": "text/x-python",
   "name": "python",
   "nbconvert_exporter": "python",
   "pygments_lexer": "ipython3",
   "version": "3.10.9"
  }
 },
 "nbformat": 4,
 "nbformat_minor": 5
}
